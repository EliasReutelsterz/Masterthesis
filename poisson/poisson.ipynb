{
 "cells": [
  {
   "cell_type": "markdown",
   "metadata": {},
   "source": [
    "$$- \\Delta u(x) = f(x) \\hspace{0.2cm} \\text{on} \\hspace{0.2cm} D(\\omega_2)$$"
   ]
  },
  {
   "cell_type": "code",
   "execution_count": 1,
   "metadata": {},
   "outputs": [],
   "source": [
    "from helpers import *"
   ]
  },
  {
   "cell_type": "code",
   "execution_count": 2,
   "metadata": {},
   "outputs": [],
   "source": [
    "MESH_RESOLUTION_RANDOM_FIELD_CALCULATION = 4"
   ]
  },
  {
   "cell_type": "code",
   "execution_count": null,
   "metadata": {},
   "outputs": [],
   "source": [
    "# Understand constant basis functions\n",
    "mesh = mshr.generate_mesh(DOMAIN, MESH_RESOLUTION_RANDOM_FIELD_CALCULATION)\n",
    "V = fe.FunctionSpace(mesh, \"DG\", 0)\n",
    "test_function = fe.Function(V)\n",
    "test_function.vector()[0] = 1\n",
    "c = fe.plot(test_function, title='Test Function')\n",
    "plt.colorbar(c)\n",
    "\n",
    "dof_coordinates = V.tabulate_dof_coordinates().reshape((-1, 2))\n",
    "print(dof_coordinates[0])\n",
    "plt.scatter(dof_coordinates[0][0], dof_coordinates[0][1], color='red', label='dof_coordinates[0]')\n",
    "\n",
    "# Identify the cell containing the DOF\n",
    "dof_index = 0\n",
    "cell_index = V.dofmap().cell_dofs(dof_index)[0]\n",
    "cell = fe.Cell(mesh, cell_index)\n",
    "\n",
    "# Extract the vertex coordinates of the cell\n",
    "vertex_indices = cell.entities(0)\n",
    "vertex_coords = np.array([mesh.coordinates()[vertex] for vertex in vertex_indices])\n",
    "print(\"Vertex Coordinates of the Cell:\", vertex_coords)\n",
    "\n",
    "# Plot the vertices of the cell\n",
    "plt.scatter(vertex_coords[:, 0], vertex_coords[:, 1], color='blue', label='Cell Vertices')\n",
    "\n",
    "plt.legend()\n",
    "plt.show()"
   ]
  },
  {
   "cell_type": "code",
   "execution_count": null,
   "metadata": {},
   "outputs": [],
   "source": [
    "randomFieldV, jacobianV = calculate_vector_field_eigenpairs(MESH_RESOLUTION_RANDOM_FIELD_CALCULATION)\n",
    "# for MESH_RESOLUTION_RANDOM_FIELD_CALCULATION = 8 it takes approx. 3 minutes\n",
    "# for MESH_RESOLUTION_RANDOM_FIELD_CALCULATION = 6 it takes approx. 47 seconds"
   ]
  },
  {
   "cell_type": "code",
   "execution_count": null,
   "metadata": {},
   "outputs": [],
   "source": [
    "# Plot the eigenvalues\n",
    "plt.figure()\n",
    "plt.title('Eigenvalues of the Random Field')\n",
    "plt.plot(randomFieldV.eigenvalues, 'o')\n",
    "plt.xlabel('Eigenvalue Index')\n",
    "plt.ylabel('Eigenvalue')\n",
    "plt.show()"
   ]
  },
  {
   "cell_type": "code",
   "execution_count": null,
   "metadata": {},
   "outputs": [],
   "source": [
    "xi = np.random.uniform(-np.sqrt(3), np.sqrt(3), randomFieldV.J)\n",
    "mesh = mshr.generate_mesh(DOMAIN, MESH_RESOLUTION_RANDOM_FIELD_CALCULATION)\n",
    "# perturbed mesh based on the \"original\" mesh used for the KL-expansion\n",
    "perturbed_coordinates = mesh.coordinates().copy()\n",
    "for index, coordinate in enumerate(mesh.coordinates()):\n",
    "    perturbed_coordinates[index] = randomFieldV(coordinate, xi)\n",
    "# Create a new mesh with the perturbed coordinates\n",
    "perturbed_mesh = fe.Mesh(mesh)\n",
    "perturbed_mesh.coordinates()[:] = perturbed_coordinates\n",
    "\n",
    "# Plot the original mesh and the perturbed mesh in one figure with different colors\n",
    "plt.figure()\n",
    "fe.plot(mesh, color='blue', linewidth=0.5, label='Original Mesh')\n",
    "fe.plot(perturbed_mesh, color='red', linewidth=0.5, label='Perturbed Mesh')\n",
    "plt.legend()\n",
    "plt.title(f\"Original and Perturbed Mesh\")\n",
    "plt.show()"
   ]
  },
  {
   "cell_type": "code",
   "execution_count": null,
   "metadata": {},
   "outputs": [],
   "source": [
    "import time\n",
    "\n",
    "len_xi = randomFieldV.J\n",
    "xi = np.random.uniform(-np.sqrt(3), np.sqrt(3), len_xi)\n",
    "\n",
    "if len_xi > randomFieldV.J:\n",
    "    raise ValueError(\"len(xi) must be less than randomFieldV.J\")\n",
    "\n",
    "mesh_resolution_solution = 4\n",
    "time_start = time.time()\n",
    "u_sol = solve_poisson_for_given_sample(mesh_resolution_solution, jacobianV, xi, RHS_F)\n",
    "time_end = time.time()\n",
    "print(f\"Time taken for solving the Poisson problem: {time_end - time_start} seconds\")\n",
    "\n",
    "c = fe.plot(u_sol, title=\"Poisson solution\")\n",
    "plt.colorbar(c)\n",
    "plt.show()"
   ]
  },
  {
   "cell_type": "code",
   "execution_count": null,
   "metadata": {},
   "outputs": [],
   "source": [
    "from helpers import calculate_vector_field_eigenpairs, incoherence_fe_edges_visualisation\n",
    "randomFieldV, jacobianV = calculate_vector_field_eigenpairs(mesh_resolution=4)\n",
    "incoherence_fe_edges_visualisation(randomFieldV=randomFieldV, mesh_resolution=4)"
   ]
  },
  {
   "cell_type": "code",
   "execution_count": null,
   "metadata": {},
   "outputs": [],
   "source": [
    "from helpers import calculate_vector_field_eigenpairs, inverse_mapping_visualisation\n",
    "randomFieldV, jacobianV = calculate_vector_field_eigenpairs(mesh_resolution=4)\n",
    "inverse_mapping_visualisation(mesh_resolution = 4,\n",
    "                              randomFieldV = randomFieldV,\n",
    "                              jacobianV = jacobianV)\n"
   ]
  },
  {
   "cell_type": "code",
   "execution_count": null,
   "metadata": {},
   "outputs": [],
   "source": [
    "# Sample time comparison\n",
    "from helpers import plot_mesh, measure_time_one_sample \n",
    "# resolution 8 takes 10 seconds per sample\n",
    "# resolution 10 takes 20 seconds per sample\n",
    "\n",
    "kl_ress = [10, 14]\n",
    "fem_res = 10\n",
    "for kl_res in kl_ress:\n",
    "    randomFieldV, jacobianV = calculate_vector_field_eigenpairs(kl_res)\n",
    "    plot_mesh(kl_res, randomFieldV)\n",
    "    measure_time_one_sample(randomFieldV.J, kl_res, fem_res, randomFieldV, jacobianV)"
   ]
  },
  {
   "cell_type": "code",
   "execution_count": null,
   "metadata": {},
   "outputs": [],
   "source": [
    "# Investigation determinant of the Jacobian\n",
    "\n",
    "det_J_expr = detJExpression(jacobianV, xi, degree=2)\n",
    "mesh = mshr.generate_mesh(DOMAIN, 5)\n",
    "V = fe.FunctionSpace(mesh, \"P\", 1)\n",
    "det_J_func = fe.project(det_J_expr, V)\n",
    "\n",
    "c = fe.plot(det_J_func, title=\"Determinant of the Jacobian\")\n",
    "plt.colorbar(c)\n",
    "plt.show()"
   ]
  },
  {
   "cell_type": "code",
   "execution_count": null,
   "metadata": {},
   "outputs": [],
   "source": [
    "# Investigation eigenfunctions\n",
    "from helpers import *\n",
    "\n",
    "fine_resoluton = 8 #! here use same as in sobol calculation\n",
    "\n",
    "randomFieldV, jacobianV = calculate_vector_field_eigenpairs(fine_resoluton)\n",
    "mesh_fine = mshr.generate_mesh(DOMAIN, fine_resoluton)\n",
    "eval_eigenfunc_k = lambda x, k: np.array([sum([randomFieldV.basis_functions[j].function(x) * randomFieldV.eigenvectors[j, k] for j in range(randomFieldV.N)]), \n",
    "                                          sum([randomFieldV.basis_functions[j].function(x) * randomFieldV.eigenvectors[j + randomFieldV.N, k] for j in range(randomFieldV.N)])])\n",
    "\n",
    "x_coords = mesh_fine.coordinates()[:, 0]\n",
    "y_coords = mesh_fine.coordinates()[:, 1]\n",
    "grid_x, grid_y = np.mgrid[-1:1:500j, -1:1:500j]\n",
    "\n",
    "\n",
    "# First component\n",
    "fig, axs = plt.subplots(3, 3, figsize=(20, 15))\n",
    "\n",
    "for k in range(9):\n",
    "    ax = axs[k // 3, k % 3]\n",
    "    z_values = []\n",
    "    for i in range(len(x_coords)):\n",
    "        z_values.append(eval_eigenfunc_k([x_coords[i], y_coords[i]], k)[0])\n",
    "    \n",
    "    grid_z = griddata((x_coords, y_coords), z_values, (grid_x, grid_y), method='linear')\n",
    "    cp = ax.contourf(grid_x, grid_y, grid_z, levels=100, cmap='viridis')\n",
    "    cbar = plt.colorbar(cp)\n",
    "    ax.set_title(f'Basis function {k} to eigenvalue {round(randomFieldV.eigenvalues[k], 5)}')\n",
    "    ax.set_xlabel(r'$x_1$')\n",
    "    ax.set_ylabel(r'$x_2$')\n",
    "\n",
    "plt.tight_layout()\n",
    "plt.show()\n",
    "\n",
    "\n",
    "# Second component\n",
    "fig, axs = plt.subplots(3, 3, figsize=(20, 15))\n",
    "\n",
    "for k in range(9):\n",
    "    ax = axs[k // 3, k % 3]\n",
    "    z_values = []\n",
    "    for i in range(len(x_coords)):\n",
    "        z_values.append(eval_eigenfunc_k([x_coords[i], y_coords[i]], k)[1])\n",
    "    \n",
    "    grid_z = griddata((x_coords, y_coords), z_values, (grid_x, grid_y), method='linear')\n",
    "    cp = ax.contourf(grid_x, grid_y, grid_z, levels=100, cmap='viridis')\n",
    "    cbar = plt.colorbar(cp)\n",
    "    ax.set_title(f'Eigenfunction {k} to eigenvalue {round(randomFieldV.eigenvalues[k], 5)}')\n",
    "    ax.set_xlabel(r'$x_1$')\n",
    "    ax.set_ylabel(r'$x_2$')\n",
    "\n",
    "plt.tight_layout()\n",
    "plt.show()\n"
   ]
  },
  {
   "cell_type": "code",
   "execution_count": null,
   "metadata": {},
   "outputs": [],
   "source": [
    "import numpy as np\n",
    "from scipy.interpolate import griddata\n",
    "import matplotlib.pyplot as plt\n",
    "\n",
    "fine_resoluton = 6\n",
    "\n",
    "randomFieldV, jacobianV = calculate_vector_field_eigenpairs(fine_resoluton)\n",
    "mesh_fine = mshr.generate_mesh(DOMAIN, fine_resoluton)\n",
    "eval_eigenfunc_k = lambda x, k: np.array([sum([randomFieldV.basis_functions[j].function(x) * randomFieldV.eigenvectors[j, k] for j in range(randomFieldV.N)]), \n",
    "                                          sum([randomFieldV.basis_functions[j].function(x) * randomFieldV.eigenvectors[j + randomFieldV.N, k] for j in range(randomFieldV.N)])])\n",
    "\n",
    "x_coords = mesh_fine.coordinates()[:, 0]\n",
    "y_coords = mesh_fine.coordinates()[:, 1]\n",
    "grid_x, grid_y = np.mgrid[-1:1:50j, -1:1:50j]  # Adjust the grid resolution as needed\n",
    "\n",
    "fig, axs = plt.subplots(2, 2, figsize=(15, 15))  # Adjust the figure size as needed\n",
    "\n",
    "for k in range(4):\n",
    "    ax = axs[k // 2, k % 2]\n",
    "    u_values = []\n",
    "    v_values = []\n",
    "    for i in range(len(x_coords)):\n",
    "        basis_function = eval_eigenfunc_k([x_coords[i], y_coords[i]], k)\n",
    "        u_values.append(basis_function[0])  # x-component\n",
    "        v_values.append(basis_function[1])  # y-component\n",
    "    \n",
    "    # Interpolate the u and v components on the grid\n",
    "    grid_u = griddata((x_coords, y_coords), u_values, (grid_x, grid_y), method='linear')\n",
    "    grid_v = griddata((x_coords, y_coords), v_values, (grid_x, grid_y), method='linear')\n",
    "\n",
    "    # Create the vector plot\n",
    "    cp = ax.quiver(grid_x, grid_y, grid_u, grid_v, scale=1, scale_units='xy', angles='xy', cmap='viridis')\n",
    "    eigenvalue_rounded = round(randomFieldV.eigenvalues[k], 5)\n",
    "    ax.set_title(f'Eigenfunction {k} to eigenvalue {eigenvalue_rounded}')\n",
    "    ax.set_xlabel(r'$x_1$')\n",
    "    ax.set_ylabel(r'$x_2$')\n",
    "\n",
    "plt.tight_layout()\n",
    "plt.show()"
   ]
  },
  {
   "cell_type": "code",
   "execution_count": null,
   "metadata": {},
   "outputs": [],
   "source": [
    "from helpers import analyse_two_resolutions_from_data_u_hat\n",
    "import fenics as fe\n",
    "\n",
    "analyse_two_resolutions_from_data_u_hat(resolution_sparse = 10,\n",
    "                                  resolution_fine = 14,\n",
    "                                  P_hat = fe.Point(0.2, 0.2))"
   ]
  },
  {
   "cell_type": "code",
   "execution_count": null,
   "metadata": {},
   "outputs": [],
   "source": [
    "from helpers import calculate_vector_field_eigenpairs, poisson_sobol_calc_indices_from_data, poisson_plot_sobols\n",
    "\n",
    "mesh_res = 8\n",
    "size_of_xi = 8\n",
    "randomFieldV, jacobianV = calculate_vector_field_eigenpairs(mesh_res)\n",
    "\n",
    "S_single, S_total, mc_sample_size = poisson_sobol_calc_indices_from_data(fem_res=mesh_res, kl_res=mesh_res, size_of_xi=size_of_xi, randomFieldV=randomFieldV, jacobianV=jacobianV)\n",
    "poisson_plot_sobols(S_single, S_total, mc_sample_size, title=f\"Sobol Indices for Poisson Problem Mesh resolution 4\")"
   ]
  },
  {
   "cell_type": "code",
   "execution_count": null,
   "metadata": {},
   "outputs": [],
   "source": [
    "from helpers import calculate_vector_field_eigenpairs, poisson_sobol_calc_indices_from_data, poisson_plot_sobols\n",
    "\n",
    "randomFieldV_4, jacobianV_4 = calculate_vector_field_eigenpairs(4)\n",
    "S_single_4, S_total_4, mc_sample_size_4 = poisson_sobol_calc_indices_from_data(fem_res=4, kl_res=4, size_of_xi=6, randomFieldV=randomFieldV_4, jacobianV=jacobianV_4)\n",
    "poisson_plot_sobols(S_single_4, S_total_4, mc_sample_size_4, title=f\"Sobol Indices for Poisson Problem Mesh resolution 4\")"
   ]
  }
 ],
 "metadata": {
  "kernelspec": {
   "display_name": "Python 3",
   "language": "python",
   "name": "python3"
  },
  "language_info": {
   "codemirror_mode": {
    "name": "ipython",
    "version": 3
   },
   "file_extension": ".py",
   "mimetype": "text/x-python",
   "name": "python",
   "nbconvert_exporter": "python",
   "pygments_lexer": "ipython3",
   "version": "3.12.7"
  }
 },
 "nbformat": 4,
 "nbformat_minor": 2
}
