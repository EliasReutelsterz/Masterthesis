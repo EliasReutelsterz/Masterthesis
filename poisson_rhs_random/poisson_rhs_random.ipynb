{
 "cells": [
  {
   "cell_type": "markdown",
   "metadata": {},
   "source": [
    "\\begin{align*}\n",
    "  - \\Delta u = f \\ \\text{on }\\ D(\\omega) \\\\\n",
    "\\\\\n",
    "  f=\n",
    "  \\begin{cases}\n",
    "      F_1, & \\text{if}\\ x_1 \\leq 0, x \\in D_{ref} \\cap D(\\omega) \\\\\n",
    "      F_2, & \\text{if}\\ x_1 > 0, x \\in D_{ref} \\cap D(\\omega)\\\\\n",
    "      0, & \\text{otherwise}\n",
    "  \\end{cases}\\\\\n",
    "  F_1, F_2 \\sim U([0, 1])\n",
    "\\end{align*}"
   ]
  },
  {
   "cell_type": "code",
   "execution_count": 8,
   "metadata": {},
   "outputs": [],
   "source": [
    "from helpers import *\n",
    "from helpers_rhs_random import *\n",
    "from IPython.display import clear_output\n",
    "import time"
   ]
  },
  {
   "cell_type": "code",
   "execution_count": 2,
   "metadata": {},
   "outputs": [],
   "source": [
    "MESH_RESOLUTION_RANDOM_FIELD_CALCULATION = 4"
   ]
  },
  {
   "cell_type": "code",
   "execution_count": 3,
   "metadata": {},
   "outputs": [],
   "source": [
    "# Calculate the eigenpairs\n",
    "# for MESH_RESOLUTION_RANDOM_FIELD_CALCULATION = 4 it takes 1:30 minutes\n",
    "randomFieldV, jacobianV = calculate_vector_field_eigenpairs(MESH_RESOLUTION_RANDOM_FIELD_CALCULATION)"
   ]
  },
  {
   "cell_type": "code",
   "execution_count": null,
   "metadata": {},
   "outputs": [],
   "source": [
    "# One combined sample for V\n",
    "len_xi = 10 #!randomFieldV.J\n",
    "mesh_resolution_NVA = 6\n",
    "mesh_resolution_inverse_mapping = 4\n",
    "mesh_resolution_solution = 4\n",
    "\n",
    "\n",
    "NVA = non_varying_area(len_xi, randomFieldV)\n",
    "mesh_NVA = mshr.generate_mesh(NVA, mesh_resolution_NVA)\n",
    "V = fe.FunctionSpace(mesh_NVA, 'P', 1)\n",
    "dofmap = V.dofmap()\n",
    "dof_coordinates = V.tabulate_dof_coordinates().reshape((-1, mesh_NVA.geometry().dim())) # Those are all the point in mesh_NVA but ordered by the dof which we need to assign by the means\n",
    "\n",
    "xi = np.random.uniform(-np.sqrt(3), np.sqrt(3), len_xi)\n",
    "\n",
    "# Solve Poisson with random rhs\n",
    "u_mean_poisson_rhs_random_P = np.zeros(len(dof_coordinates))\n",
    "F_samples = np.random.random(size=2)\n",
    "u_sol_poisson_rhs_random = solve_poisson_for_given_sample_rhs_random(mesh_resolution_solution, jacobianV, xi, F_samples)\n",
    "\n",
    "\n",
    "for i, P_coords in enumerate(dof_coordinates):\n",
    "    P = fe.Point(P_coords)\n",
    "    P_hat = inverse_mapping(P, randomFieldV, xi, mesh_resolution_inverse_mapping)\n",
    "    u_mean_poisson_rhs_random_P[i] = u_sol_poisson_rhs_random(P_hat)\n",
    "\n",
    "u_mean_poisson_rhs_random = fe.Function(V)\n",
    "u_mean_poisson_rhs_random.vector()[:] = u_mean_poisson_rhs_random_P\n",
    "\n",
    "x_coords = mesh_NVA.coordinates()[:, 0]\n",
    "y_coords = mesh_NVA.coordinates()[:, 1]\n",
    "grid_x, grid_y = np.mgrid[-1:1:500j, -1:1:500j]\n",
    "z_values_poisson_rhs_random = []\n",
    "\n",
    "for i in range(len(x_coords)):\n",
    "    z_values_poisson_rhs_random.append(u_mean_poisson_rhs_random(x_coords[i], y_coords[i]))\n",
    "\n",
    "\n",
    "grid_z = griddata((x_coords, y_coords), z_values_poisson_rhs_random, (grid_x, grid_y), method='linear')\n",
    "fig = go.Figure(data=[go.Surface(z=grid_z, x=grid_x, y=grid_y, colorscale='Viridis')])\n",
    "fig.update_layout(title=f'Solution of poisson equation with random rhs', autosize=True,\n",
    "                scene=dict(xaxis_title='x', yaxis_title='y', zaxis_title='u(x, y)'),\n",
    "                margin=dict(l=65, r=50, b=65, t=90))\n",
    "\n",
    "fig.show()"
   ]
  },
  {
   "cell_type": "code",
   "execution_count": null,
   "metadata": {},
   "outputs": [],
   "source": [
    "###### Section 2 ######\n",
    "###### Sobol Index Estimates ######\n",
    "\n",
    "# Inputs\n",
    "\n",
    "# Times for double loop MC and pick freeze:\n",
    "#   \n",
    "mc_sample_size = 10\n",
    "mesh_resolution_fem = 3\n",
    "size_of_xi = 3\n",
    "P = fe.Point(0.01, 0.01)\n",
    "\n",
    "NVA = non_varying_area(size_of_xi, randomFieldV)\n",
    "if not pointInNVA(P, NVA):\n",
    "    raise ValueError(\"Point P is not in the non-varying area\")\n",
    "\n",
    "if size_of_xi > jacobianV.J:\n",
    "    raise ValueError(f\"size_of_xi must be less than or equal to {jacobianV.J}\")\n",
    "\n",
    "\n",
    "indices = [1, 2, 3] # [1, 2, 3] are all xi\n",
    "double_loop_mc_closed_sobol_index_123 = double_loop_mc(mc_sample_size, mesh_resolution_fem, P, indices, randomFieldV, jacobianV, size_of_xi)\n",
    "\n",
    "indices = [4, 5] # [4, 5] are F1 and F2\n",
    "double_loop_mc_closed_sobol_index_45 = double_loop_mc(mc_sample_size, mesh_resolution_fem, P, indices, randomFieldV, jacobianV, size_of_xi)\n",
    "\n",
    "indices = [1, 2, 3] # [1, 2, 3] are all xi\n",
    "pick_freeze_closed_sobol_index_123 = pick_freeze(mc_sample_size, mesh_resolution_fem, P, indices, randomFieldV, jacobianV, size_of_xi)\n",
    "\n",
    "indices = [4, 5] # [4, 5] are F1 and F2\n",
    "pick_freeze_closed_sobol_index_45 = pick_freeze(mc_sample_size, mesh_resolution_fem, P, indices, randomFieldV, jacobianV, size_of_xi)\n",
    "\n",
    "print(f\"Double loop MC closed sobol index 123: {double_loop_mc_closed_sobol_index_123}\")\n",
    "print(f\"Double loop MC closed sobol index 45: {double_loop_mc_closed_sobol_index_45}\")\n",
    "print(f\"Pick freeze closed sobol index 123: {pick_freeze_closed_sobol_index_123}\")\n",
    "print(f\"Pick freeze closed sobol index 45: {pick_freeze_closed_sobol_index_45}\")"
   ]
  },
  {
   "cell_type": "code",
   "execution_count": null,
   "metadata": {},
   "outputs": [],
   "source": [
    "# Compare sobol indices for the samples of xi\n",
    "\n",
    "# Inputs\n",
    "mc_sample_size = 100\n",
    "mesh_resolution_fem = 3\n",
    "size_of_xi = 3\n",
    "P = fe.Point(0, 0)\n",
    "\n",
    "NVA = non_varying_area(size_of_xi, randomFieldV)\n",
    "if not pointInNVA(P, NVA):\n",
    "    raise ValueError(\"Point P is not in the non-varying area\")\n",
    "\n",
    "if size_of_xi > jacobianV.J:\n",
    "    raise ValueError(f\"size_of_xi must be less than or equal to {jacobianV.J}\")\n",
    "\n",
    "s_1 = pick_freeze(mc_sample_size, mesh_resolution_fem, P, [1], randomFieldV, jacobianV, size_of_xi)\n",
    "s_2 = pick_freeze(mc_sample_size, mesh_resolution_fem, P, [2], randomFieldV, jacobianV, size_of_xi)\n",
    "s_3 = pick_freeze(mc_sample_size, mesh_resolution_fem, P, [3], randomFieldV, jacobianV, size_of_xi)\n",
    "\n",
    "print(f\"S_1: {s_1}, S_2: {s_2}, S_3: {s_3}\")"
   ]
  },
  {
   "cell_type": "code",
   "execution_count": null,
   "metadata": {},
   "outputs": [],
   "source": [
    "# Sobol Index estimation by rank statistics\n",
    "\n",
    "# Inputs\n",
    "mc_sample_size = 100\n",
    "mesh_resolution_fem = 3\n",
    "size_of_xi = 3\n",
    "P = fe.Point(0, 0)\n",
    "\n",
    "NVA = non_varying_area(size_of_xi, randomFieldV)\n",
    "if not pointInNVA(P, NVA):\n",
    "    raise ValueError(\"Point P is not in the non-varying area\")\n",
    "\n",
    "if size_of_xi > jacobianV.J:\n",
    "    raise ValueError(f\"size_of_xi must be less than or equal to {jacobianV.J}\")\n",
    "\n",
    "index = 1\n",
    "s_1 = rank_statistics(mc_sample_size, mesh_resolution_fem, P, index, randomFieldV, jacobianV, size_of_xi)\n",
    "\n",
    "index = 4\n",
    "s_4 = rank_statistics(mc_sample_size, mesh_resolution_fem, P, index, randomFieldV, jacobianV, size_of_xi)\n",
    "\n",
    "print(f\"Rank statistics estimates: S_1: {s_1}, S_4: {s_4}\")"
   ]
  },
  {
   "cell_type": "code",
   "execution_count": null,
   "metadata": {},
   "outputs": [],
   "source": [
    "# Compare sobol indices for the samples of xi\n",
    "\n",
    "# Inputs\n",
    "mc_sample_size_double_loop = 20\n",
    "mc_sample_size_pick_freeze = 150\n",
    "mc_sample_size_rank_statistics = 600\n",
    "mesh_resolution_fem = 3\n",
    "size_of_xi = 3\n",
    "P = fe.Point(0, 0)\n",
    "\n",
    "NVA = non_varying_area(size_of_xi, randomFieldV)\n",
    "if not pointInNVA(P, NVA):\n",
    "    raise ValueError(\"Point P is not in the non-varying area\")\n",
    "\n",
    "if size_of_xi > jacobianV.J:\n",
    "    raise ValueError(f\"size_of_xi must be less than or equal to {jacobianV.J}\")\n",
    "\n",
    "time_start = time.time()\n",
    "s_1_double_loop_mc = double_loop_mc(mc_sample_size_double_loop, mesh_resolution_fem, P, [1], randomFieldV, jacobianV, size_of_xi)\n",
    "time_after_double_loop_mc = time.time()\n",
    "s_1_pick_freeze = pick_freeze(mc_sample_size_pick_freeze, mesh_resolution_fem, P, [1], randomFieldV, jacobianV, size_of_xi)\n",
    "time_after_pick_freeze = time.time()\n",
    "s_1_rank_statistics = rank_statistics(mc_sample_size_rank_statistics, mesh_resolution_fem, P, 1, randomFieldV, jacobianV, size_of_xi)\n",
    "time_after_rank_statistics = time.time()\n",
    "\n",
    "#! measure time and print it\n",
    "clear_output(wait=True)\n",
    "\n",
    "print(f\"Double loop MC: time: {round(time_after_double_loop_mc - time_start, 1)} sec., s_1: {s_1_double_loop_mc}, \\n\"\n",
    "    f\"Pick Freeze: {round(time_after_pick_freeze - time_after_double_loop_mc, 1)} sec., s_1: {s_1_pick_freeze}, \\n\"\n",
    "    f\"Rank statistics: {round(time_after_rank_statistics - time_after_pick_freeze, 1)} sec., s_1 {s_1_rank_statistics}\")\n"
   ]
  },
  {
   "cell_type": "code",
   "execution_count": null,
   "metadata": {},
   "outputs": [],
   "source": [
    "mc_sample_size = 10\n",
    "mesh_resolution_fem = 3\n",
    "size_of_xi = 3\n",
    "s1 = functional_valued_output_sobol_estimation(mc_sample_size, mesh_resolution_fem, [1], randomFieldV, jacobianV, size_of_xi)\n",
    "s2 = functional_valued_output_sobol_estimation(mc_sample_size, mesh_resolution_fem, [2], randomFieldV, jacobianV, size_of_xi)\n",
    "\n",
    "print(f\"s1: {s1}, s2: {s2}\")"
   ]
  },
  {
   "cell_type": "code",
   "execution_count": null,
   "metadata": {},
   "outputs": [],
   "source": [
    "mc_sample_size = 8000 # 8000 -> 304 min.\n",
    "mesh_resolution_fem = 3\n",
    "size_of_xi = 3\n",
    "P = fe.Point(0.01, 0.01)\n",
    "\n",
    "S_single, S_total = compare_all_sobols_rhs_random(mc_sample_size, mesh_resolution_fem, randomFieldV, jacobianV, size_of_xi, P)"
   ]
  },
  {
   "cell_type": "code",
   "execution_count": null,
   "metadata": {},
   "outputs": [],
   "source": [
    "# Results from 8000 samples with\n",
    "# mesh_resolution_fem = 3\n",
    "# size_of_xi = 3\n",
    "# P = fe.Point(0.01, 0.01)\n",
    "# F1, F2 ~ U(0, 1)\n",
    "# S_single = np.array([0.01101213, 0.01319693, 0.00928177, 0.45107665, 0.5482512])\n",
    "# S_total = np.array([0.0498094, 0.06279766, 0.050678, 0.48407903, 0.55175134])\n",
    "fig, ax = plt.subplots(figsize=(10, 5))\n",
    "\n",
    "# Set width for each bar\n",
    "bar_width = 0.35\n",
    "\n",
    "ax.bar(np.arange(len(S_single)), S_single, width=bar_width, label='First Order')\n",
    "ax.bar(np.arange(len(S_single)) + bar_width, S_total, width=bar_width, label='Total Effect')\n",
    "x_labels = np.concatenate(([fr\"$\\xi_{i+1}$\" for i in range(size_of_xi)], [r\"$F_1$\", r\"$F_2$\"]))\n",
    "ax.set_xticklabels(x_labels)\n",
    "ax.set_xticks(np.arange(len(S_single)) + bar_width / 2)\n",
    "ax.set_ylabel('Sensitivity [-]')\n",
    "ax.set_title(f'Sample Size: {mc_sample_size}')\n",
    "ax.grid(True)\n",
    "ax.legend()\n",
    "plt.show()"
   ]
  },
  {
   "cell_type": "code",
   "execution_count": null,
   "metadata": {},
   "outputs": [],
   "source": [
    "from helpers_rhs_random import rhs_random_functional_valued_output_sobol_estimation_u_hat, poisson_rhs_random_plot_sobols\n",
    "\n",
    "mesh_resolution = 4\n",
    "mc_sample_size = 10\n",
    "size_of_xi = 4\n",
    "S_single, S_total = rhs_random_functional_valued_output_sobol_estimation_u_hat(mc_sample_size, mesh_resolution, size_of_xi)\n",
    "poisson_rhs_random_plot_sobols(S_single, S_total, mc_sample_size, title=r\"$\\hat{u}$ on reference domain\")"
   ]
  },
  {
   "cell_type": "code",
   "execution_count": null,
   "metadata": {},
   "outputs": [],
   "source": [
    "from helpers_rhs_random import rhs_random_functional_valued_output_sobol_estimation_u, poisson_rhs_random_plot_sobols\n",
    "\n",
    "mesh_resolution = 4\n",
    "mc_sample_size = 10\n",
    "size_of_xi = 4\n",
    "S_single, S_total = rhs_random_functional_valued_output_sobol_estimation_u(mc_sample_size, mesh_resolution, size_of_xi)\n",
    "poisson_rhs_random_plot_sobols(S_single, S_total, mc_sample_size, title=r\"u on non-varying domain\")"
   ]
  },
  {
   "cell_type": "code",
   "execution_count": null,
   "metadata": {},
   "outputs": [],
   "source": [
    "# Results for 10.000 samples, mesh_resolution = 4, size_of_xi = 6, NVA_radius = 0.68\n",
    "u_S_single = np.array([0.011128391759457677, 0.002311681484487409, 0.0011435140727115887, 0.006121995311750717, 0.002149410391514706, 0.0017625322992047578])\n",
    "u_S_total = np.array([0.014490995891868107, 0.004963726653825941, 0.002027576207192274, 0.006086289757896165, 0.003542663307469733, 0.002563563831820648])\n",
    "\n",
    "u_hat_S_single = np.array([0.0013914556683523155, 0.0006031170435941264, -1.194876361821121e-05, 0.002113369969845415, 0.0001275371344608343, 0.001994153612394076])\n",
    "u_hat_S_total = np.array([0.0002502586933177696, 0.008199586466509985, 0.0005881057367373704, 0.001219927771522511, 0.0024156204035458936, -0.0005069770805945322])\n",
    "\n",
    "poisson_plot_sobols(u_S_single, u_S_total, 10000, title=r\"u on non-varying domain rhs random\")\n",
    "poisson_plot_sobols(u_hat_S_single, u_hat_S_total, 10000, title=r\"$\\hat{u}$ on reference domain\")"
   ]
  },
  {
   "cell_type": "code",
   "execution_count": null,
   "metadata": {},
   "outputs": [],
   "source": [
    "from helpers_rhs_random import poisson_rhs_random_analyse_two_resolutions_from_data_u_hat\n",
    "import fenics as fe\n",
    "\n",
    "poisson_rhs_random_analyse_two_resolutions_from_data_u_hat(resolution_sparse = 10,\n",
    "                                  resolution_fine = 14,\n",
    "                                  P_hat = fe.Point(0.5, 0.5))"
   ]
  },
  {
   "cell_type": "code",
   "execution_count": null,
   "metadata": {},
   "outputs": [],
   "source": [
    "from helpers import calculate_vector_field_eigenpairs\n",
    "from helpers_rhs_random import poisson_rhs_random_sobol_calc_indices_from_data, poisson_rhs_random_plot_sobols\n",
    "\n",
    "mesh_res = 8\n",
    "size_of_xi = 6\n",
    "randomFieldV, jacobianV = calculate_vector_field_eigenpairs(mesh_res)\n",
    "\n",
    "S_single, S_total, mc_sample_size = poisson_rhs_random_sobol_calc_indices_from_data(fem_res=mesh_res, kl_res=mesh_res,\n",
    "                                                                         size_of_xi=6,\n",
    "                                                                         randomFieldV=randomFieldV, jacobianV=jacobianV)\n",
    "poisson_rhs_random_plot_sobols(S_single, S_total, mc_sample_size, title=f\"Sobol Indices for Poisson Problem rhs random Mesh resolution {mesh_res}\")"
   ]
  }
 ],
 "metadata": {
  "kernelspec": {
   "display_name": "Python 3",
   "language": "python",
   "name": "python3"
  },
  "language_info": {
   "codemirror_mode": {
    "name": "ipython",
    "version": 3
   },
   "file_extension": ".py",
   "mimetype": "text/x-python",
   "name": "python",
   "nbconvert_exporter": "python",
   "pygments_lexer": "ipython3",
   "version": "3.12.7"
  }
 },
 "nbformat": 4,
 "nbformat_minor": 2
}
