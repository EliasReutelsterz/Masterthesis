{
 "cells": [
  {
   "cell_type": "code",
   "execution_count": 8,
   "id": "eb42d1dc",
   "metadata": {},
   "outputs": [],
   "source": [
    "from poisson_and_variants.poisson.helpers import *\n",
    "from poisson_and_variants.poisson_rhs_random.helpers_rhs_random import *\n",
    "from poisson_and_variants.diffusion import *\n",
    "from steel_plate_problem.model_random_position_and_radius.helpers import *\n",
    "from steel_plate_problem.model_random_field.helpers import *"
   ]
  },
  {
   "cell_type": "code",
   "execution_count": 21,
   "id": "4416e6ad",
   "metadata": {},
   "outputs": [
    {
     "name": "stdout",
     "output_type": "stream",
     "text": [
      "Poisson: 16352 samples for sparse, 20000 samples for fine\n",
      "Poisson RHS random: 16352 samples for sparse, 20000 samples for fine\n",
      "Diffusion: 16352 samples for sparse, 20000 samples for fine\n",
      "Steel plate model_random_position_and_radius: 16352 samples for sparse, 20000 samples for fine\n",
      "Goal: 16352 sparse samples and 20000 fine samples\n"
     ]
    }
   ],
   "source": [
    "# Compare MC-sample sizes\n",
    "# Poisson\n",
    "data_sparse = np.genfromtxt(f'poisson_and_variants/poisson/mc_data_storage/samples_femres_{10}_klres_{10}_combined.csv', delimiter=',')\n",
    "data_fine = np.genfromtxt(f'poisson_and_variants/poisson/mc_data_storage/samples_femres_{10}_klres_{14}_combined.csv', delimiter=',')\n",
    "print(f'Poisson: {data_sparse.shape[0]} samples for sparse, {data_fine.shape[0]} samples for fine')\n",
    "\n",
    "# Poisson RHS random\n",
    "data_sparse = np.genfromtxt(f'poisson_and_variants/poisson_rhs_random/mc_data_storage/samples_femres_{10}_klres_{10}_combined.csv', delimiter=',')\n",
    "data_fine = np.genfromtxt(f'poisson_and_variants/poisson_rhs_random/mc_data_storage/samples_femres_{10}_klres_{14}_combined.csv', delimiter=',')\n",
    "print(f'Poisson RHS random: {data_sparse.shape[0]} samples for sparse, {data_fine.shape[0]} samples for fine')\n",
    "\n",
    "# Diffusion\n",
    "data_sparse = np.genfromtxt(f'poisson_and_variants/diffusion/mc_data_storage/samples_femres_{10}_klres_{10}_combined.csv', delimiter=',')\n",
    "data_fine = np.genfromtxt(f'poisson_and_variants/diffusion/mc_data_storage/samples_femres_{10}_klres_{14}_combined.csv', delimiter=',')\n",
    "print(f'Diffusion: {data_sparse.shape[0]} samples for sparse, {data_fine.shape[0]} samples for fine')\n",
    "\n",
    "# Steel plate problem sp5\n",
    "data_sigma_hat_proj = np.load(f\"steel_plate_problem/model_random_position_and_radius/mc_data_storage/klres_e_{18}_femres_{18}/sigma_hat_proj.npy\")\n",
    "mc_sample_sizes = [32]\n",
    "while True:\n",
    "    if np.sum(mc_sample_sizes) + mc_sample_sizes[-1]*2 <= data_sigma_hat_proj.shape[0]:\n",
    "        mc_sample_sizes.append(mc_sample_sizes[-1]*2)\n",
    "    else:\n",
    "        break\n",
    "\n",
    "if data_sigma_hat_proj.shape[0] - np.sum(mc_sample_sizes) < mc_sample_sizes[-1]:\n",
    "        mc_sample_sizes = mc_sample_sizes[:-1]\n",
    "   \n",
    "fine_sigma_hat_proj = data_sigma_hat_proj[np.sum(mc_sample_sizes):]\n",
    "sparse_sigma_hat_proj = data_sigma_hat_proj[:np.sum(mc_sample_sizes)]\n",
    "print(f'Steel plate model_random_position_and_radius: {sparse_sigma_hat_proj.shape[0]} samples for sparse, {fine_sigma_hat_proj.shape[0]} samples for fine')\n",
    "\n",
    "print(f\"Goal: 16352 sparse samples and 20000 fine samples\")"
   ]
  },
  {
   "cell_type": "code",
   "execution_count": 10,
   "id": "f162a492",
   "metadata": {},
   "outputs": [
    {
     "name": "stdout",
     "output_type": "stream",
     "text": [
      "Poisson Sobol MC size: 12000\n",
      "Poisson RHS random Sobol MC size: 12000\n",
      "Diffusion Sobol MC size: 12000\n",
      "Steel plate random position and radius Sobol MC size: 12000\n",
      "Steel plate random field Sobol MC size: 12000\n"
     ]
    }
   ],
   "source": [
    "# Compare Sobol samples sizes\n",
    "\n",
    "# Poisson\n",
    "print(f\"Poisson Sobol MC size: {np.load(f'poisson_and_variants/poisson/sobol_data_storage/femres_{8}_klres_{8}_size_of_xi_{8}/f_A.npy').shape[0]}\")\n",
    "\n",
    "# Poisson RHS random\n",
    "print(f\"Poisson RHS random Sobol MC size: {np.load(f'poisson_and_variants/poisson_rhs_random/sobol_data_storage/femres_{8}_klres_{8}_size_of_xi_{6}/f_A.npy').shape[0]}\")\n",
    "\n",
    "# Diffusion\n",
    "print(f\"Diffusion Sobol MC size: {np.load(f'poisson_and_variants/diffusion/sobol_data_storage/femres_{8}_klres_{8}_size_xi_v_{4}_size_xi_z_{4}/f_A.npy').shape[0]}\")\n",
    "\n",
    "# Steel plate problem sp5\n",
    "print(f\"Steel plate random position and radius Sobol MC size: {np.load(f'steel_plate_problem/model_random_position_and_radius/sobol_data_storage/klres_e_{14}_femres_{14}_size_of_xi_e_{4}/sigma_hat_f_A.npy').shape[0]}\")\n",
    "\n",
    "# Steel plate problem sp6\n",
    "print(f\"Steel plate random field Sobol MC size: {np.load(f'steel_plate_problem/model_random_field/sobol_data_storage/klres_e_{6}_klres_v_{6}_femres_{14}_size_of_xi_e_{4}_size_of_xi_v_{4}/sigma_hat_f_A.npy').shape[0]}\")"
   ]
  }
 ],
 "metadata": {
  "kernelspec": {
   "display_name": "Python 3",
   "language": "python",
   "name": "python3"
  },
  "language_info": {
   "codemirror_mode": {
    "name": "ipython",
    "version": 3
   },
   "file_extension": ".py",
   "mimetype": "text/x-python",
   "name": "python",
   "nbconvert_exporter": "python",
   "pygments_lexer": "ipython3",
   "version": "3.12.7"
  }
 },
 "nbformat": 4,
 "nbformat_minor": 5
}
