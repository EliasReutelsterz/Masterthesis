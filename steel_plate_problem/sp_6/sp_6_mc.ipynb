{
 "cells": [
  {
   "cell_type": "code",
   "execution_count": 2,
   "metadata": {},
   "outputs": [],
   "source": [
    "from sp_6_helper import *"
   ]
  },
  {
   "cell_type": "code",
   "execution_count": null,
   "metadata": {},
   "outputs": [],
   "source": [
    "run_and_save_mc(mesh_resolution_kl_v=10,\n",
    "       mesh_resolution_kl_e=10,\n",
    "       mesh_resolution=6,\n",
    "       sample_size=10)"
   ]
  },
  {
   "cell_type": "code",
   "execution_count": null,
   "metadata": {},
   "outputs": [],
   "source": [
    "u_hat_sols_data = np.load('mc_data_storage/klresv_6_klrese_12_femres_12/u_hat_sols.npy')\n",
    "print(u_hat_sols_data.shape)"
   ]
  },
  {
   "cell_type": "code",
   "execution_count": 6,
   "metadata": {},
   "outputs": [],
   "source": [
    "# Time analysis\n",
    "sparse_mesh_resolution_kl_v = 6\n",
    "sparse_mesh_resolution_kl_e = 6\n",
    "\n",
    "fine_mesh_resolution_kl_v = 10\n",
    "fine_mesh_resolution_kl_e = 10\n",
    "\n",
    "sparse_randomFieldE = calculate_randomFieldE(sparse_mesh_resolution_kl_e)\n",
    "sparse_randomFieldVBar = calculate_randomFieldVBar(sparse_mesh_resolution_kl_v)\n",
    "\n",
    "fine_randomFieldE = calculate_randomFieldE(fine_mesh_resolution_kl_e)\n",
    "fine_randomFieldVBar = calculate_randomFieldVBar(fine_mesh_resolution_kl_v)"
   ]
  },
  {
   "cell_type": "code",
   "execution_count": null,
   "metadata": {},
   "outputs": [],
   "source": [
    "mesh_resolution = 6\n",
    "\n",
    "tic = time.time()\n",
    "omega_1 = sample_omega_1(sparse_randomFieldE)\n",
    "omega_2 = sample_omega_2(sparse_randomFieldVBar)\n",
    "q = sample_q()\n",
    "solve_model(mesh_resolution, omega_1, omega_2, q, sparse_randomFieldE, sparse_randomFieldVBar)\n",
    "toc = time.time()\n",
    "print('Time for sparse mesh resolution: ', toc - tic)\n",
    "\n",
    "tic = time.time()\n",
    "omega_1 = sample_omega_1(fine_randomFieldE)\n",
    "omega_2 = sample_omega_2(fine_randomFieldVBar)\n",
    "q = sample_q()\n",
    "solve_model(mesh_resolution, omega_1, omega_2, q, fine_randomFieldE, fine_randomFieldVBar)\n",
    "toc = time.time()\n",
    "print('Time for fine mesh resolution: ', toc - tic)"
   ]
  },
  {
   "cell_type": "code",
   "execution_count": null,
   "metadata": {},
   "outputs": [],
   "source": [
    "from sp_6_helper import *\n",
    "mc_analysis(sparse_mesh_resolution_kl_v=6,\n",
    "            sparse_mesh_resolution_kl_e=6,\n",
    "            fine_mesh_resolution_kl_v=10,\n",
    "            fine_mesh_resolution_kl_e=10,\n",
    "            mesh_resolution=6,\n",
    "            P_hat=fe.Point(0.16, 0.18))\n",
    "#! variance missing\n",
    "#! confidence intervals missing"
   ]
  }
 ],
 "metadata": {
  "kernelspec": {
   "display_name": "Python 3",
   "language": "python",
   "name": "python3"
  },
  "language_info": {
   "codemirror_mode": {
    "name": "ipython",
    "version": 3
   },
   "file_extension": ".py",
   "mimetype": "text/x-python",
   "name": "python",
   "nbconvert_exporter": "python",
   "pygments_lexer": "ipython3",
   "version": "3.12.7"
  }
 },
 "nbformat": 4,
 "nbformat_minor": 2
}
