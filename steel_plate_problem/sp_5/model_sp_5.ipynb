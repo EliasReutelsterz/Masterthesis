{
 "cells": [
  {
   "cell_type": "code",
   "execution_count": 1,
   "metadata": {},
   "outputs": [],
   "source": [
    "from model_sp_5_helper import *"
   ]
  },
  {
   "cell_type": "code",
   "execution_count": 3,
   "metadata": {},
   "outputs": [
    {
     "name": "stdout",
     "output_type": "stream",
     "text": [
      "Time to calculate randomFieldE for mesh resolution 6: 3.4118549823760986\n",
      "Solving linear variational problem.\n",
      "  Building point search tree to accelerate distance queries.\n",
      "  Computed bounding box tree with 217 nodes for 109 points.\n",
      "  Building point search tree to accelerate distance queries.\n",
      "  Computed bounding box tree with 217 nodes for 109 points.\n",
      "Time to solve model for mesh resolution 6: 1.492866039276123\n",
      "Time to calculate randomFieldE for mesh resolution 8: 9.50338888168335\n",
      "Solving linear variational problem.\n",
      "  Building point search tree to accelerate distance queries.\n",
      "  Computed bounding box tree with 395 nodes for 198 points.\n",
      "Time to solve model for mesh resolution 8: 3.5447301864624023\n",
      "Time to calculate randomFieldE for mesh resolution 10: 23.078450918197632\n",
      "Solving linear variational problem.\n",
      "  Building point search tree to accelerate distance queries.\n",
      "  Computed bounding box tree with 619 nodes for 310 points.\n",
      "  Building point search tree to accelerate distance queries.\n",
      "  Computed bounding box tree with 619 nodes for 310 points.\n",
      "Time to solve model for mesh resolution 10: 8.258105993270874\n",
      "Time to calculate randomFieldE for mesh resolution 12: 44.060513973236084\n",
      "Solving linear variational problem.\n",
      "  Building point search tree to accelerate distance queries.\n",
      "  Computed bounding box tree with 849 nodes for 425 points.\n",
      "  Building point search tree to accelerate distance queries.\n",
      "  Computed bounding box tree with 849 nodes for 425 points.\n",
      "Time to solve model for mesh resolution 12: 15.673509120941162\n"
     ]
    }
   ],
   "source": [
    "# Time Analysis\n",
    "\n",
    "mesh_resolutions = [6, 8, 10, 12]\n",
    "for mesh_resolution in mesh_resolutions:\n",
    "    tic = time.time()\n",
    "    randomFieldE = calculate_randomFieldE(mesh_resolution)\n",
    "    toc = time.time()\n",
    "    print(f\"Time to calculate randomFieldE for mesh resolution {mesh_resolution}: {toc-tic}\")\n",
    "\n",
    "    omega_1 = sample_omega_1(randomFieldE)\n",
    "    omega_2 = sample_omega_2()\n",
    "    q = sample_q()\n",
    "\n",
    "    tic = time.time()\n",
    "    u_hat = solve_model(mesh_resolution=mesh_resolution,\n",
    "                omega_1=omega_1, omega_2=omega_2, q=q,\n",
    "                randomFieldE= randomFieldE)\n",
    "    toc = time.time()\n",
    "    print(f\"Time to solve model for mesh resolution {mesh_resolution}: {toc-tic}\")"
   ]
  }
 ],
 "metadata": {
  "kernelspec": {
   "display_name": "Python 3",
   "language": "python",
   "name": "python3"
  },
  "language_info": {
   "codemirror_mode": {
    "name": "ipython",
    "version": 3
   },
   "file_extension": ".py",
   "mimetype": "text/x-python",
   "name": "python",
   "nbconvert_exporter": "python",
   "pygments_lexer": "ipython3",
   "version": "3.12.7"
  }
 },
 "nbformat": 4,
 "nbformat_minor": 2
}
