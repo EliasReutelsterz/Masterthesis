{
 "cells": [
  {
   "cell_type": "code",
   "execution_count": 1,
   "metadata": {},
   "outputs": [],
   "source": [
    "from model_sp_5_helper import *"
   ]
  },
  {
   "cell_type": "code",
   "execution_count": 2,
   "metadata": {},
   "outputs": [],
   "source": [
    "mesh_resolution = 12\n",
    "randomFieldE = calculate_randomFieldE(mesh_resolution=mesh_resolution)"
   ]
  },
  {
   "cell_type": "code",
   "execution_count": 4,
   "metadata": {},
   "outputs": [
    {
     "ename": "TypeError",
     "evalue": "solve_and_plot_model() got an unexpected keyword argument 'plot'",
     "output_type": "error",
     "traceback": [
      "\u001b[0;31m---------------------------------------------------------------------------\u001b[0m",
      "\u001b[0;31mTypeError\u001b[0m                                 Traceback (most recent call last)",
      "Cell \u001b[0;32mIn[4], line 5\u001b[0m\n\u001b[1;32m      2\u001b[0m omega2 \u001b[38;5;241m=\u001b[39m sample_omega2()\n\u001b[1;32m      3\u001b[0m q \u001b[38;5;241m=\u001b[39m sample_q()\n\u001b[0;32m----> 5\u001b[0m u_hat_sol \u001b[38;5;241m=\u001b[39m \u001b[43msolve_and_plot_model\u001b[49m\u001b[43m(\u001b[49m\u001b[43mmesh_resolution\u001b[49m\u001b[43m,\u001b[49m\u001b[43m \u001b[49m\u001b[43momega1\u001b[49m\u001b[43m,\u001b[49m\u001b[43m \u001b[49m\u001b[43momega2\u001b[49m\u001b[43m,\u001b[49m\u001b[43m \u001b[49m\u001b[43mq\u001b[49m\u001b[43m,\u001b[49m\u001b[43m \u001b[49m\u001b[43mrandomFieldE\u001b[49m\u001b[43m,\u001b[49m\u001b[43m \u001b[49m\u001b[43mplot\u001b[49m\u001b[38;5;241;43m=\u001b[39;49m\u001b[38;5;28;43;01mTrue\u001b[39;49;00m\u001b[43m)\u001b[49m\n",
      "\u001b[0;31mTypeError\u001b[0m: solve_and_plot_model() got an unexpected keyword argument 'plot'"
     ]
    }
   ],
   "source": [
    "omega1 = sample_omega1(randomFieldE)\n",
    "omega2 = sample_omega2()\n",
    "q = sample_q()\n",
    "\n",
    "u_hat_sol = solve_and_plot_model(mesh_resolution, omega1, omega2, q, randomFieldE, plot=True)"
   ]
  }
 ],
 "metadata": {
  "kernelspec": {
   "display_name": "Python 3",
   "language": "python",
   "name": "python3"
  },
  "language_info": {
   "codemirror_mode": {
    "name": "ipython",
    "version": 3
   },
   "file_extension": ".py",
   "mimetype": "text/x-python",
   "name": "python",
   "nbconvert_exporter": "python",
   "pygments_lexer": "ipython3",
   "version": "3.12.7"
  }
 },
 "nbformat": 4,
 "nbformat_minor": 2
}
