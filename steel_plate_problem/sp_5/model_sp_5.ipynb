{
 "cells": [
  {
   "cell_type": "code",
   "execution_count": null,
   "metadata": {},
   "outputs": [],
   "source": [
    "from model_sp_5_helper import *"
   ]
  },
  {
   "cell_type": "code",
   "execution_count": null,
   "metadata": {},
   "outputs": [],
   "source": [
    "mesh_resolution = 16 # with 20 it takes 5 min.\n",
    "randomFieldE = calculate_randomFieldE(mesh_resolution=mesh_resolution)"
   ]
  },
  {
   "cell_type": "code",
   "execution_count": null,
   "metadata": {},
   "outputs": [],
   "source": [
    "omega1 = sample_omega1(randomFieldE)\n",
    "omega2 = sample_omega2()\n",
    "omega2 = np.array([1, 0, 0])\n",
    "q = sample_q()\n",
    "\n",
    "# with mesh_resolution = 20, it takes 7:40 min.\n",
    "\n",
    "u_hat_sol = solve_model_with_plots(mesh_resolution, omega1, omega2, q, randomFieldE)"
   ]
  },
  {
   "cell_type": "code",
   "execution_count": null,
   "metadata": {},
   "outputs": [],
   "source": [
    "mesh_resolution_fine = 30 # mesh_resolution_fine takes 8:40 min.\n",
    "u_hat_sol = solve_model_with_plots(mesh_resolution, omega1, omega2, q, randomFieldE)"
   ]
  },
  {
   "cell_type": "code",
   "execution_count": null,
   "metadata": {},
   "outputs": [],
   "source": [
    "omega1 = sample_omega1(randomFieldE)\n",
    "omega2 = sample_omega2()\n",
    "omega2 = np.array([1, 0.05, 0.05])\n",
    "q = sample_q()\n",
    "\n",
    "# with mesh_resolution=20 it takes 7:55\n",
    "u_hat_sol = solve_model_with_plots(mesh_resolution, omega1, omega2, q, randomFieldE)"
   ]
  },
  {
   "cell_type": "code",
   "execution_count": null,
   "metadata": {},
   "outputs": [],
   "source": [
    "omega1 = sample_omega1(randomFieldE)\n",
    "omega2 = sample_omega2()\n",
    "omega2 = np.array([1.5, 0.1, 0.1])\n",
    "q = sample_q()\n",
    "\n",
    "\n",
    "u_hat_sol = solve_model_with_plots(mesh_resolution, omega1, omega2, q, randomFieldE)"
   ]
  },
  {
   "cell_type": "code",
   "execution_count": null,
   "metadata": {},
   "outputs": [],
   "source": [
    "# Random Field E Analysis\n",
    "randomFieldEExpression = RandomFieldEExpression(randomFieldE, omega1)\n",
    "domain = mshr.Rectangle(fe.Point(0, 0), fe.Point(0.32, 0.32)) # used a_plate_length hardcoded\n",
    "circ_center = fe.Point(0.16, 0.16)\n",
    "circ_radius = 0.02 # used r hardcoded\n",
    "domain = domain - mshr.Circle(circ_center, circ_radius)\n",
    "mesh = mshr.generate_mesh(domain, mesh_resolution)\n",
    "perturbed_mesh = perturb_mesh(mesh, omega2)\n",
    "W_perturbed = fe.FunctionSpace(perturbed_mesh, \"P\", 1)\n",
    "E_perturbed_proj = fe.Function(W_perturbed)\n",
    "E_perturbed_proj.assign(fe.project(randomFieldEExpression, W_perturbed))\n",
    "c = fe.plot(E_perturbed_proj, title=r\"Random Field $E(x, \\omega_1)$\")\n",
    "plt.colorbar(c)\n",
    "plt.xlabel(r'$x_1$')\n",
    "plt.ylabel(r'$x_2$')\n",
    "plt.xlim(- 0.02, 0.34)\n",
    "plt.ylim(- 0.02, 0.34)\n",
    "plt.show()\n",
    "\n",
    "# Generate data\n",
    "x = np.linspace(0, 0.32, 100)\n",
    "y = np.linspace(0, 0.32, 100)\n",
    "X, Y = np.meshgrid(x, y)\n",
    "Z = np.zeros_like(X)\n",
    "for i in range(100):\n",
    "    for j in range(100):\n",
    "        Z[i, j] = randomFieldE(np.array([X[i, j], Y[i, j]]), omega1)\n",
    "\n",
    "# Create contour plot\n",
    "fig, ax = plt.subplots()\n",
    "cp = ax.contourf(X, Y, Z, levels=100, cmap='viridis')\n",
    "cbar = plt.colorbar(cp, label='E(x, ω₁)', shrink=0.8)  # Adjust shrink as needed\n",
    "ax.set_xlabel(r'$x_1$')\n",
    "ax.set_ylabel(r'$x_2$')\n",
    "plt.show()"
   ]
  }
 ],
 "metadata": {
  "kernelspec": {
   "display_name": "Python 3",
   "language": "python",
   "name": "python3"
  },
  "language_info": {
   "codemirror_mode": {
    "name": "ipython",
    "version": 3
   },
   "file_extension": ".py",
   "mimetype": "text/x-python",
   "name": "python",
   "nbconvert_exporter": "python",
   "pygments_lexer": "ipython3",
   "version": "3.12.7"
  }
 },
 "nbformat": 4,
 "nbformat_minor": 2
}
