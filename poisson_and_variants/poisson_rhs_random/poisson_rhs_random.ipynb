{
 "cells": [
  {
   "cell_type": "markdown",
   "metadata": {},
   "source": [
    "<h2>Poisson problem with random right-hand side</h2>\n",
    "\n",
    "\\begin{align*}\n",
    "  - \\Delta u(x, \\omega) = f(x, \\omega_1) \\hspace{1cm} & \\vert \\hspace{1cm} x \\in D(\\omega_2) \\\\\n",
    "  u(x, \\omega) = 0 \\hspace{1cm} & \\vert \\hspace{1cm} x \\in \\delta D(\\omega_2)\n",
    "\\end{align*}\n",
    "with\n",
    "\\begin{align*}\n",
    "  & f: D(\\omega_2) \\times \\Omega_1 \\rightarrow \\mathbb{R}, \\\\\n",
    "  & f(x, \\omega_1) = \\begin{cases}\n",
    "      \\omega_1^{(1)}, & x_1 \\leq 0, x \\in D_{ref} \\cap D(\\omega_2)\\\\\n",
    "      \\omega_1^{(2)}, & x_1 > 0, x \\in D_{ref} \\cap D(\\omega_2)\\\\\n",
    "      0 & \\text{otherwise} \n",
    "  \\end{cases}\n",
    "\\end{align*}\n",
    "where $\\omega_1^{(1)}, \\omega_1^{(2)} \\sim U([0, 1]).$\n"
   ]
  },
  {
   "cell_type": "code",
   "execution_count": null,
   "metadata": {},
   "outputs": [],
   "source": [
    "from helpers_rhs_random import *"
   ]
  },
  {
   "cell_type": "code",
   "execution_count": null,
   "metadata": {},
   "outputs": [],
   "source": [
    "# Create random field for plotting\n",
    "randomFieldV, jacobianV = calculate_vector_field_eigenpairs(10)"
   ]
  },
  {
   "cell_type": "code",
   "execution_count": null,
   "metadata": {},
   "outputs": [],
   "source": [
    "# Sample random field and random right hand side\n",
    "xi = np.random.uniform(-np.sqrt(3), np.sqrt(3), randomFieldV.J)\n",
    "F = np.random.random(2)"
   ]
  },
  {
   "cell_type": "code",
   "execution_count": null,
   "metadata": {},
   "outputs": [],
   "source": [
    "\"\"\"\n",
    "Calculate a sample solution of the random right hand side Poisson equation and plot the resulting solution û on the reference domain.\n",
    "Creation of image: images/5_domain_mapping_method_for_variants_of_the_poisson_equation/rhs_random_u_hat.png\n",
    "\"\"\"\n",
    "\n",
    "u_sol = solve_poisson_for_given_sample_rhs_random(10, jacobianV, xi, F)\n",
    "\n",
    "mesh = mshr.generate_mesh(DOMAIN, 10)\n",
    "x_coords = mesh.coordinates()[:, 0]\n",
    "y_coords = mesh.coordinates()[:, 1]\n",
    "grid_x, grid_y = np.mgrid[-1:1:500j, -1:1:500j]\n",
    "u_sols = []\n",
    "\n",
    "for i in range(len(x_coords)):\n",
    "    u_sols.append(u_sol(x_coords[i], y_coords[i]))\n",
    "\n",
    "grid_z = griddata((x_coords, y_coords), u_sols, (grid_x, grid_y), method='linear')\n",
    "\n",
    "fig = plt.figure(figsize=(10, 8))\n",
    "ax = fig.add_subplot(111)\n",
    "cp = ax.contourf(grid_x, grid_y, grid_z, levels=100, cmap='viridis')\n",
    "cbar = plt.colorbar(cp)\n",
    "cbar.ax.tick_params(labelsize=16)\n",
    "cbar.locator = MaxNLocator(nbins=5)\n",
    "cbar.update_ticks()\n",
    "ax.set_xlim([-1.1, 1.1])\n",
    "ax.set_ylim([-1.1, 1.1])\n",
    "plt.title(r'$\\hat{u}(\\hat{x}, \\omega)$ on $D_{ref}$', fontsize=24, pad=20)\n",
    "plt.xlabel(r'$\\hat{x}_1$', fontsize=24)\n",
    "plt.ylabel(r'$\\hat{x}_2$', fontsize=24)\n",
    "ax.xaxis.set_major_locator(MaxNLocator(nbins=5))\n",
    "ax.yaxis.set_major_locator(MaxNLocator(nbins=5))\n",
    "plt.tick_params(axis='both', which='major', labelsize=16)\n",
    "plt.show()\n",
    "\n",
    "print(f\"F: {F}\")"
   ]
  },
  {
   "cell_type": "code",
   "execution_count": null,
   "metadata": {},
   "outputs": [],
   "source": [
    "\"\"\"\n",
    "Calculate a sample solution of the random right hand side Poisson equation and plot the resulting solution u on the sample domain.\n",
    "Creation of image: images/5_domain_mapping_method_for_variants_of_the_poisson_equation/rhs_random_u.png\n",
    "\"\"\"\n",
    "\n",
    "u_sol = solve_poisson_for_given_sample_rhs_random(10, jacobianV, xi, F)\n",
    "\n",
    "mesh = mshr.generate_mesh(DOMAIN, 10)\n",
    "x_coords = mesh.coordinates()[:, 0]\n",
    "y_coords = mesh.coordinates()[:, 1]\n",
    "grid_x, grid_y = np.mgrid[-1.5:1.5:500j, -1.5:1.5:500j]\n",
    "u_sols = []\n",
    "x_coords_perturbed = []\n",
    "y_coords_perturbed = []\n",
    "\n",
    "for i in range(len(x_coords)):\n",
    "    P_hat = fe.Point(x_coords[i], y_coords[i])\n",
    "    x_coords_perturbed.append(randomFieldV(P_hat, xi)[0])\n",
    "    y_coords_perturbed.append(randomFieldV(P_hat, xi)[1])\n",
    "    u_sols.append(u_sol(P_hat))\n",
    "\n",
    "\n",
    "grid_z = griddata((x_coords_perturbed, y_coords_perturbed), u_sols, (grid_x, grid_y), method='linear')\n",
    "\n",
    "fig = plt.figure(figsize=(10, 8))\n",
    "ax = fig.add_subplot(111)\n",
    "cp = ax.contourf(grid_x, grid_y, grid_z, levels=100, cmap='viridis')\n",
    "cbar = plt.colorbar(cp)\n",
    "cbar.ax.tick_params(labelsize=16)\n",
    "cbar.locator = MaxNLocator(nbins=5)\n",
    "cbar.update_ticks()\n",
    "ax.set_xlim([np.min(x_coords_perturbed) - 0.1, np.max(x_coords_perturbed) + 0.1])\n",
    "ax.set_ylim([np.min(y_coords_perturbed) - 0.1, np.max(y_coords_perturbed) + 0.1])\n",
    "plt.title(r'$u(x, \\omega)$ on $D(\\omega)$', fontsize=24, pad=20)\n",
    "plt.xlabel(r'$x_1$', fontsize=24)\n",
    "plt.ylabel(r'$x_2$', fontsize=24)\n",
    "ax.xaxis.set_major_locator(MaxNLocator(nbins=5))\n",
    "ax.yaxis.set_major_locator(MaxNLocator(nbins=5))\n",
    "plt.tick_params(axis='both', which='major', labelsize=16)\n",
    "plt.show()\n",
    "print(f\"F: {F}\")"
   ]
  },
  {
   "cell_type": "code",
   "execution_count": null,
   "metadata": {},
   "outputs": [],
   "source": [
    "\"\"\"\n",
    "Show the random right hand side function for a sample.\n",
    "Creation of image: images/5_domain_mapping_method_for_variants_of_the_poisson_equation/random_right_hand_side_f.png\n",
    "\"\"\"\n",
    "\n",
    "# Assuming randomFieldV and jacobianV are already defined\n",
    "randomFieldV_4, jacobianV_4 = calculate_vector_field_eigenpairs(4)\n",
    "\n",
    "# used different xi for plot\n",
    "xi = np.random.uniform(-np.sqrt(6), np.sqrt(6), randomFieldV_4.J)\n",
    "num_points = 1000\n",
    "points = []\n",
    "perturbed_points = []\n",
    "for i in range(num_points):\n",
    "    point = np.array([np.cos(2 * np.pi * i / num_points), np.sin(2 * np.pi * i / num_points)])\n",
    "    points.append(point)\n",
    "    perturbed_points.append(randomFieldV_4(point, xi))\n",
    "\n",
    "left_semi_circle = []\n",
    "right_semi_circle = []\n",
    "for i in range(num_points):\n",
    "    if perturbed_points[i][0] < 0:\n",
    "        if np.linalg.norm(perturbed_points[i]) <= 1:\n",
    "            left_semi_circle.append(perturbed_points[i])\n",
    "        else:\n",
    "            left_semi_circle.append(perturbed_points[i] / np.linalg.norm(perturbed_points[i]))\n",
    "    else:\n",
    "        if np.linalg.norm(perturbed_points[i]) <= 1:\n",
    "            right_semi_circle.append(perturbed_points[i])\n",
    "        else:\n",
    "            right_semi_circle.append(perturbed_points[i] / np.linalg.norm(perturbed_points[i]))\n",
    "\n",
    "# Sort right semi circle points by y coordinate\n",
    "right_semi_circle = sorted(right_semi_circle, key=lambda x: x[1])\n",
    "\n",
    "for i in range(num_points):\n",
    "    left_semi_circle.append(np.array([0, i/num_points]))\n",
    "    right_semi_circle.append(np.array([0, i/num_points]))\n",
    "    left_semi_circle.append(np.array([0, - i/num_points]))\n",
    "    right_semi_circle.append(np.array([0, - i/num_points]))\n",
    "\n",
    "fig = plt.figure(figsize=(10, 8))\n",
    "\n",
    "ax = fig.add_subplot(111)\n",
    "ax.set_aspect('equal', adjustable='datalim')\n",
    "ax.set_xlim([-1.5, 1.5])\n",
    "ax.set_ylim([-1.5, 1.5])\n",
    "\n",
    "# Convert perturbed points to a numpy array\n",
    "points = np.array(points)\n",
    "perturbed_points = np.array(perturbed_points)\n",
    "left_semi_circle = np.array(left_semi_circle)\n",
    "right_semi_circle = np.array(right_semi_circle)\n",
    "\n",
    "\n",
    "# Fill the space inside the perturbed circle\n",
    "ax.fill(perturbed_points[:, 0], perturbed_points[:, 1], color='lightcoral', alpha=0.4, label=r'$D(\\omega_2)$')\n",
    "# ax.fill(points[:, 0], points[:, 1], color='red', alpha=0.2, label='Unit circle')\n",
    "ax.fill(left_semi_circle[:, 0], left_semi_circle[:, 1], color='green', alpha=0.2, label=r'$D_{ref} \\cap D(\\omega_2), x_1 \\leq 0$')\n",
    "ax.fill(right_semi_circle[:, 0], right_semi_circle[:, 1], color='blue', alpha=0.2, label=r'$D_{ref} \\cap D(\\omega_2), x_1 > 0$')\n",
    "\n",
    "\n",
    "ax.text(-0.75, 0, r'$\\omega_1^{(1)}$', fontsize=24, ha='center', va='center')\n",
    "ax.text(0.75, 0, r'$\\omega_1^{(2)}$', fontsize=24, ha='center', va='center')\n",
    "\n",
    "plt.xlabel(r'$x_1$', fontsize=24)\n",
    "plt.ylabel(r'$x_2$', fontsize=24)\n",
    "# plt.title('Random right hand side f', fontsize=24, pad=20)\n",
    "ax.tick_params(axis='both', which='major', labelsize=16)\n",
    "plt.legend(loc='upper left', fontsize=16)\n",
    "\n",
    "plt.show()\n"
   ]
  },
  {
   "cell_type": "code",
   "execution_count": null,
   "metadata": {},
   "outputs": [],
   "source": [
    "\"\"\"\n",
    "Perform Monte Carlo Analysis and plot the resulting approximation-, convergence- and error-plots\n",
    "Creation of image: images/5_domain_mapping_method_for_variants_of_the_poisson_equation/rhs_random_mean.png\n",
    "Creation of image: images/5_domain_mapping_method_for_variants_of_the_poisson_equation/rhs_random_mean_convergence.png\n",
    "Creation of image: images/5_domain_mapping_method_for_variants_of_the_poisson_equation/rhs_random_variance.png\n",
    "Creation of image: images/5_domain_mapping_method_for_variants_of_the_poisson_equation/rhs_random_variance_convergence.png\n",
    "Creation of image: images/5_domain_mapping_method_for_variants_of_the_poisson_equation/rhs_random_l2_error.png\n",
    "Creation of image: images/5_domain_mapping_method_for_variants_of_the_poisson_equation/rhs_random_h1_error.png\n",
    "\"\"\"\n",
    "\n",
    "poisson_rhs_random_analyse_two_resolutions_from_data_u_hat(resolution_sparse = 10,\n",
    "                                  resolution_fine = 14,\n",
    "                                  P_hat = fe.Point(0.2, 0.2))"
   ]
  },
  {
   "cell_type": "code",
   "execution_count": null,
   "metadata": {},
   "outputs": [
    {
     "name": "stderr",
     "output_type": "stream",
     "text": [
      "/Users/elias/git/Masterthesis/poisson_rhs_random/helpers_rhs_random.py:627: UserWarning:\n",
      "\n",
      "set_ticklabels() should only be used with a fixed number of ticks, i.e. after set_ticks() or using a FixedLocator.\n",
      "\n"
     ]
    },
    {
     "data": {
      "image/png": "[encoded data removed]",
      "text/plain": [
       "<Figure size 1000x500 with 1 Axes>"
      ]
     },
     "metadata": {},
     "output_type": "display_data"
    },
    {
     "name": "stdout",
     "output_type": "stream",
     "text": [
      "Sample size: 12000\n"
     ]
    }
   ],
   "source": [
    "\"\"\"\n",
    "Show the Sobol Indices of the random right hand side Poisson model.\n",
    "Creation of image: images/5_domain_mapping_method_for_variants_of_the_poisson_equation/rhs_random_sobols.png\n",
    "\"\"\"\n",
    "\n",
    "mesh_res = 8\n",
    "size_of_xi = 6\n",
    "randomFieldV, jacobianV = calculate_vector_field_eigenpairs(mesh_res)\n",
    "\n",
    "S_single, S_total, mc_sample_size = poisson_rhs_random_sobol_calc_indices_from_data(fem_res=mesh_res, kl_res=mesh_res,\n",
    "                                                                         size_of_xi=size_of_xi,\n",
    "                                                                         randomFieldV=randomFieldV, jacobianV=jacobianV)\n",
    "poisson_rhs_random_plot_sobols(S_single, S_total, mc_sample_size)"
   ]
  }
 ],
 "metadata": {
  "kernelspec": {
   "display_name": "Python 3",
   "language": "python",
   "name": "python3"
  },
  "language_info": {
   "codemirror_mode": {
    "name": "ipython",
    "version": 3
   },
   "file_extension": ".py",
   "mimetype": "text/x-python",
   "name": "python",
   "nbconvert_exporter": "python",
   "pygments_lexer": "ipython3",
   "version": "3.12.7"
  }
 },
 "nbformat": 4,
 "nbformat_minor": 2
}
