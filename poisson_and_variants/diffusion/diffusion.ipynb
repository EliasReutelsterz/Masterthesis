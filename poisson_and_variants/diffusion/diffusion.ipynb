{
 "cells": [
  {
   "cell_type": "markdown",
   "metadata": {},
   "source": [
    "<h2>Diffusion problem</h2>\n",
    "\n",
    "\n",
    "\\begin{align*}\n",
    "    - \\nabla \\cdot (A(x, \\omega_1) \\cdot \\nabla u(x, \\omega)) &= 1 \\hspace{0.2cm} \\text{on} \\hspace{0.2cm} D(\\omega_2) \\\\\n",
    "    u(x, \\omega) & = 0 \\hspace{0.2cm} \\text{on} \\hspace{0.2cm} \\delta D(\\omega_2)\n",
    "\\end{align*}\n",
    "where $A(x, \\omega_1) = \\exp(Z(x, \\omega_1))$, $Z$ being gaussian  \\\n",
    "and $V(x, \\omega_2)$ is the random field corresponding to $D(\\omega_2)$"
   ]
  },
  {
   "cell_type": "code",
   "execution_count": 1,
   "metadata": {},
   "outputs": [],
   "source": [
    "from helpers_diffusion import *"
   ]
  },
  {
   "cell_type": "code",
   "execution_count": null,
   "metadata": {},
   "outputs": [
    {
     "ename": "KeyboardInterrupt",
     "evalue": "",
     "output_type": "error",
     "traceback": [
      "\u001b[0;31m---------------------------------------------------------------------------\u001b[0m",
      "\u001b[0;31mKeyboardInterrupt\u001b[0m                         Traceback (most recent call last)",
      "Cell \u001b[0;32mIn[2], line 1\u001b[0m\n\u001b[0;32m----> 1\u001b[0m randomFieldV, jacobianV \u001b[38;5;241m=\u001b[39m \u001b[43mcalculate_vector_field_eigenpairs\u001b[49m\u001b[43m(\u001b[49m\u001b[38;5;241;43m10\u001b[39;49m\u001b[43m)\u001b[49m\n\u001b[1;32m      2\u001b[0m randomFieldZ \u001b[38;5;241m=\u001b[39m z_calculate_random_field_eigenpairs(\u001b[38;5;241m10\u001b[39m, z_cov)\n",
      "File \u001b[0;32m~/git/Masterthesis/poisson/helpers.py:296\u001b[0m, in \u001b[0;36mcalculate_vector_field_eigenpairs\u001b[0;34m(mesh_resolution)\u001b[0m\n\u001b[1;32m    293\u001b[0m \u001b[38;5;28;01mfor\u001b[39;00m j, basis_function_j \u001b[38;5;129;01min\u001b[39;00m \u001b[38;5;28menumerate\u001b[39m(basis_functions):\n\u001b[1;32m    294\u001b[0m     \u001b[38;5;28;01mif\u001b[39;00m j \u001b[38;5;241m<\u001b[39m\u001b[38;5;241m=\u001b[39m i:\n\u001b[1;32m    295\u001b[0m         \u001b[38;5;66;03m# Here we use that each block is symmetric because of the symmetry of the covariance functions\u001b[39;00m\n\u001b[0;32m--> 296\u001b[0m         C[i, j] \u001b[38;5;241m=\u001b[39m C[j, i] \u001b[38;5;241m=\u001b[39m \u001b[43mget_C_entry\u001b[49m\u001b[43m(\u001b[49m\u001b[43mv_cov1_1\u001b[49m\u001b[43m,\u001b[49m\u001b[43m \u001b[49m\u001b[43mbasis_function_i\u001b[49m\u001b[43m,\u001b[49m\u001b[43m \u001b[49m\u001b[43mbasis_function_j\u001b[49m\u001b[43m)\u001b[49m\n\u001b[1;32m    297\u001b[0m         C[i, N \u001b[38;5;241m+\u001b[39m j] \u001b[38;5;241m=\u001b[39m C[j, N \u001b[38;5;241m+\u001b[39m i] \u001b[38;5;241m=\u001b[39m get_C_entry(v_cov1_2, basis_function_i, basis_function_j)\n\u001b[1;32m    298\u001b[0m         C[N \u001b[38;5;241m+\u001b[39m i, j] \u001b[38;5;241m=\u001b[39m C[N \u001b[38;5;241m+\u001b[39m j, i] \u001b[38;5;241m=\u001b[39m get_C_entry(v_cov2_1, basis_function_i, basis_function_j)\n",
      "File \u001b[0;32m~/git/Masterthesis/poisson/helpers.py:271\u001b[0m, in \u001b[0;36mget_C_entry\u001b[0;34m(f, basis_function_i, basis_function_j)\u001b[0m\n\u001b[1;32m    269\u001b[0m \u001b[38;5;28;01mfor\u001b[39;00m quad_point_x \u001b[38;5;129;01min\u001b[39;00m quad_points_x:\n\u001b[1;32m    270\u001b[0m     \u001b[38;5;28;01mfor\u001b[39;00m quad_point_y \u001b[38;5;129;01min\u001b[39;00m quad_points_y:\n\u001b[0;32m--> 271\u001b[0m         integral \u001b[38;5;241m+\u001b[39m\u001b[38;5;241m=\u001b[39m f(quad_point_x\u001b[38;5;241m.\u001b[39mpoint[\u001b[38;5;241m0\u001b[39m], quad_point_x\u001b[38;5;241m.\u001b[39mpoint[\u001b[38;5;241m1\u001b[39m], quad_point_y\u001b[38;5;241m.\u001b[39mpoint[\u001b[38;5;241m0\u001b[39m], quad_point_y\u001b[38;5;241m.\u001b[39mpoint[\u001b[38;5;241m1\u001b[39m]) \u001b[38;5;241m*\u001b[39m basis_function_i\u001b[38;5;241m.\u001b[39mfunction(quad_point_x\u001b[38;5;241m.\u001b[39mpoint) \u001b[38;5;241m*\u001b[39m \u001b[43mbasis_function_j\u001b[49m\u001b[38;5;241;43m.\u001b[39;49m\u001b[43mfunction\u001b[49m\u001b[43m(\u001b[49m\u001b[43mquad_point_y\u001b[49m\u001b[38;5;241;43m.\u001b[39;49m\u001b[43mpoint\u001b[49m\u001b[43m)\u001b[49m \u001b[38;5;241m*\u001b[39m quad_point_x\u001b[38;5;241m.\u001b[39mweight \u001b[38;5;241m*\u001b[39m quad_point_y\u001b[38;5;241m.\u001b[39mweight\n\u001b[1;32m    272\u001b[0m \u001b[38;5;28;01mreturn\u001b[39;00m integral\n",
      "File \u001b[0;32m~/miniconda3/envs/fenics_x64/lib/python3.12/site-packages/dolfin/function/function.py:337\u001b[0m, in \u001b[0;36mFunction.__call__\u001b[0;34m(self, *args, **kwargs)\u001b[0m\n\u001b[1;32m    333\u001b[0m     \u001b[38;5;28;01mraise\u001b[39;00m \u001b[38;5;167;01mTypeError\u001b[39;00m(\u001b[38;5;124m\"\u001b[39m\u001b[38;5;124mexpected the geometry argument to be of \u001b[39m\u001b[38;5;124m\"\u001b[39m\n\u001b[1;32m    334\u001b[0m                     \u001b[38;5;124m\"\u001b[39m\u001b[38;5;124mlength \u001b[39m\u001b[38;5;132;01m%d\u001b[39;00m\u001b[38;5;124m\"\u001b[39m \u001b[38;5;241m%\u001b[39m dim)\n\u001b[1;32m    336\u001b[0m \u001b[38;5;66;03m# The actual evaluation\u001b[39;00m\n\u001b[0;32m--> 337\u001b[0m \u001b[38;5;28;43mself\u001b[39;49m\u001b[38;5;241;43m.\u001b[39;49m\u001b[43m_cpp_object\u001b[49m\u001b[38;5;241;43m.\u001b[39;49m\u001b[43meval\u001b[49m\u001b[43m(\u001b[49m\u001b[43mvalues\u001b[49m\u001b[43m,\u001b[49m\u001b[43m \u001b[49m\u001b[43mx\u001b[49m\u001b[43m)\u001b[49m\n\u001b[1;32m    339\u001b[0m \u001b[38;5;66;03m# If scalar return statement, return scalar value.\u001b[39;00m\n\u001b[1;32m    340\u001b[0m \u001b[38;5;28;01mif\u001b[39;00m value_size \u001b[38;5;241m==\u001b[39m \u001b[38;5;241m1\u001b[39m \u001b[38;5;129;01mand\u001b[39;00m \u001b[38;5;129;01mnot\u001b[39;00m values_provided:\n",
      "\u001b[0;31mKeyboardInterrupt\u001b[0m: "
     ]
    }
   ],
   "source": [
    "# Create random field V for plotting\n",
    "randomFieldV, jacobianV = calculate_vector_field_eigenpairs(10)\n",
    "randomFieldZ = z_calculate_random_field_eigenpairs(10, z_cov)"
   ]
  },
  {
   "cell_type": "code",
   "execution_count": null,
   "metadata": {},
   "outputs": [],
   "source": [
    "# Sample the random field\n",
    "xi_v = np.random.uniform(-np.sqrt(3), np.sqrt(3), randomFieldV.J)\n",
    "xi_z = np.random.uniform(-np.sqrt(3), np.sqrt(3), randomFieldZ.J)"
   ]
  },
  {
   "cell_type": "code",
   "execution_count": null,
   "metadata": {},
   "outputs": [],
   "source": [
    "\"\"\"\n",
    "Solve diffusion equation for a sample and plot the solution û on the reference domain.\n",
    "Creation of the image: images/5_domain_mapping_method_for_variants_of_the_poisson_equation/diffusion_u_hat.png\n",
    "\"\"\"\n",
    "\n",
    "u_sol = solve_diffusion_poisson_for_given_sample(10, RHS_F, randomFieldV, jacobianV, randomFieldZ, xi_v, xi_z)\n",
    "\n",
    "mesh = mshr.generate_mesh(DOMAIN, 10)\n",
    "x_coords = mesh.coordinates()[:, 0]\n",
    "y_coords = mesh.coordinates()[:, 1]\n",
    "grid_x, grid_y = np.mgrid[-1:1:500j, -1:1:500j]\n",
    "u_sols = []\n",
    "\n",
    "for i in range(len(x_coords)):\n",
    "    u_sols.append(u_sol(x_coords[i], y_coords[i]))\n",
    "\n",
    "grid_z = griddata((x_coords, y_coords), u_sols, (grid_x, grid_y), method='linear')\n",
    "\n",
    "fig = plt.figure(figsize=(10, 8))\n",
    "ax = fig.add_subplot(111)\n",
    "cp = ax.contourf(grid_x, grid_y, grid_z, levels=100, cmap='viridis')\n",
    "cbar = plt.colorbar(cp)\n",
    "cbar.ax.tick_params(labelsize=16)\n",
    "cbar.locator = MaxNLocator(nbins=5)\n",
    "cbar.update_ticks()\n",
    "ax.set_xlim([-1.1, 1.1])\n",
    "ax.set_ylim([-1.1, 1.1])\n",
    "plt.title(r'$\\hat{u}(\\hat{x}, \\omega)$ on $D_{ref}$', fontsize=24, pad=20)\n",
    "plt.xlabel(r'$\\hat{x}_1$', fontsize=24)\n",
    "plt.ylabel(r'$\\hat{x}_2$', fontsize=24)\n",
    "ax.xaxis.set_major_locator(MaxNLocator(nbins=5))\n",
    "ax.yaxis.set_major_locator(MaxNLocator(nbins=5))\n",
    "plt.tick_params(axis='both', which='major', labelsize=16)\n",
    "plt.show()"
   ]
  },
  {
   "cell_type": "code",
   "execution_count": null,
   "metadata": {},
   "outputs": [],
   "source": [
    "\"\"\"\n",
    "Solve diffusion equation for a sample and plot the solution u on the sample domain.\n",
    "Creation of the image: images/5_domain_mapping_method_for_variants_of_the_poisson_equation/diffusion_u.png\n",
    "\"\"\"\n",
    "\n",
    "u_sol = solve_diffusion_poisson_for_given_sample(10, RHS_F, randomFieldV, jacobianV, randomFieldZ, xi_v, xi_z)\n",
    "\n",
    "mesh = mshr.generate_mesh(DOMAIN, 10)\n",
    "x_coords = mesh.coordinates()[:, 0]\n",
    "y_coords = mesh.coordinates()[:, 1]\n",
    "grid_x, grid_y = np.mgrid[-1.5:1.5:500j, -1.5:1.5:500j]\n",
    "u_sols = []\n",
    "x_coords_perturbed = []\n",
    "y_coords_perturbed = []\n",
    "\n",
    "for i in range(len(x_coords)):\n",
    "    P_hat = fe.Point(x_coords[i], y_coords[i])\n",
    "    x_coords_perturbed.append(randomFieldV(P_hat, xi_v)[0])\n",
    "    y_coords_perturbed.append(randomFieldV(P_hat, xi_v)[1])\n",
    "    u_sols.append(u_sol(P_hat))\n",
    "\n",
    "\n",
    "grid_z = griddata((x_coords_perturbed, y_coords_perturbed), u_sols, (grid_x, grid_y), method='linear')\n",
    "\n",
    "fig = plt.figure(figsize=(10, 8))\n",
    "ax = fig.add_subplot(111)\n",
    "cp = ax.contourf(grid_x, grid_y, grid_z, levels=100, cmap='viridis')\n",
    "cbar = plt.colorbar(cp)\n",
    "cbar.ax.tick_params(labelsize=16)\n",
    "cbar.locator = MaxNLocator(nbins=5)\n",
    "cbar.update_ticks()\n",
    "ax.set_xlim([np.min(x_coords_perturbed) - 0.1, np.max(x_coords_perturbed) + 0.1])\n",
    "ax.set_ylim([np.min(y_coords_perturbed) - 0.1, np.max(y_coords_perturbed) + 0.1])\n",
    "plt.title(r'$u(x, \\omega)$ on $D(\\omega)$', fontsize=24, pad=20)\n",
    "plt.xlabel(r'$x_1$', fontsize=24)\n",
    "plt.ylabel(r'$x_2$', fontsize=24)\n",
    "ax.xaxis.set_major_locator(MaxNLocator(nbins=5))\n",
    "ax.yaxis.set_major_locator(MaxNLocator(nbins=5))\n",
    "plt.tick_params(axis='both', which='major', labelsize=16)\n",
    "plt.show()"
   ]
  },
  {
   "cell_type": "code",
   "execution_count": null,
   "metadata": {},
   "outputs": [],
   "source": [
    "\"\"\"\n",
    "Apply MC Analysis and plot mean/variance approximations and convergence.\n",
    "Creation of image: images/5_domain_mapping_method_for_variants_of_the_poisson_equation/diffusion_mean.png\n",
    "Creation of image: images/5_domain_mapping_method_for_variants_of_the_poisson_equation/diffusion_variance.png\n",
    "Creation of image: images/5_domain_mapping_method_for_variants_of_the_poisson_equation/diffusion_mean_convergence.png\n",
    "Creation of image: images/5_domain_mapping_method_for_variants_of_the_poisson_equation/diffusion_variance_convergence.png\n",
    "Creation of image: images/5_domain_mapping_method_for_variants_of_the_poisson_equation/diffusion_l2_error.png\n",
    "Creation of image: images/5_domain_mapping_method_for_variants_of_the_poisson_equation/diffusion_h1_error.png\n",
    "\"\"\"\n",
    "\n",
    "diffusion_analyse_two_resolutions_from_data_u_hat(resolution_sparse = 10,\n",
    "                                  resolution_fine = 14,\n",
    "                                  P_hat = fe.Point(0.2, 0.2))"
   ]
  },
  {
   "cell_type": "code",
   "execution_count": null,
   "metadata": {},
   "outputs": [
    {
     "name": "stderr",
     "output_type": "stream",
     "text": [
      "/Users/elias/git/Masterthesis/diffusion/helpers_diffusion.py:483: UserWarning:\n",
      "\n",
      "set_ticklabels() should only be used with a fixed number of ticks, i.e. after set_ticks() or using a FixedLocator.\n",
      "\n"
     ]
    },
    {
     "data": {
      "image/png": "[encoded data removed]",
      "text/plain": [
       "<Figure size 1000x500 with 1 Axes>"
      ]
     },
     "metadata": {},
     "output_type": "display_data"
    },
    {
     "name": "stdout",
     "output_type": "stream",
     "text": [
      "Sample size: 12000\n"
     ]
    }
   ],
   "source": [
    "\"\"\"\n",
    "Plot the Sobol indices for the diffusion model.\n",
    "Creation of image: images/5_domain_mapping_method_for_variants_of_the_poisson_equation/diffusion_sobols.png\n",
    "\"\"\"\n",
    "\n",
    "mesh_res = 8\n",
    "size_xi_v = 4\n",
    "size_xi_z = 4\n",
    "randomFieldV, jacobianV = calculate_vector_field_eigenpairs(mesh_res)\n",
    "\n",
    "S_single, S_total, mc_sample_size = diffusion_sobol_calc_indices_from_data(fem_res=mesh_res, kl_res=mesh_res,\n",
    "                                                                         size_xi_v=size_xi_v,\n",
    "                                                                         size_xi_z=size_xi_z,\n",
    "                                                                         randomFieldV=randomFieldV, jacobianV=jacobianV)\n",
    "diffusion_plot_sobols(S_single, S_total, mc_sample_size, size_xi_v)"
   ]
  },
  {
   "cell_type": "code",
   "execution_count": null,
   "metadata": {},
   "outputs": [],
   "source": [
    "# Create random field z for plotting\n",
    "randomFieldZ = z_calculate_random_field_eigenpairs(10, z_cov)"
   ]
  },
  {
   "cell_type": "code",
   "execution_count": null,
   "metadata": {},
   "outputs": [],
   "source": [
    "\"\"\"\n",
    "Show the random field Z(x, \\omega) and A(x, \\omega) for a sample.\n",
    "Creation of image: images/5_domain_mapping_method_for_variants_of_the_poisson_equation/diffusion_z.png\n",
    "Creation of image: images/5_domain_mapping_method_for_variants_of_the_poisson_equation/diffusion_a.png\n",
    "\"\"\"\n",
    "\n",
    "xi_z = np.random.uniform(-np.sqrt(3), np.sqrt(3), randomFieldZ.J)\n",
    "rectangular_domain = mshr.Rectangle(fe.Point(-1.5, -1.5), fe.Point(1.5, 1.5))\n",
    "\n",
    "mesh = mshr.generate_mesh(rectangular_domain, 10)\n",
    "x_coords = mesh.coordinates()[:, 0]\n",
    "y_coords = mesh.coordinates()[:, 1]\n",
    "grid_x, grid_y = np.mgrid[-1.5:1.5:500j, -1.5:1.5:500j]\n",
    "\n",
    "fig = plt.figure(figsize=(10, 8))\n",
    "ax = fig.add_subplot(111)\n",
    "\n",
    "z_values = []\n",
    "for i in range(len(x_coords)):\n",
    "    z_values.append(randomFieldZ([x_coords[i], y_coords[i]], xi_z))\n",
    "grid_z = griddata((x_coords, y_coords), z_values, (grid_x, grid_y), method='linear')\n",
    "cp = ax.contourf(grid_x, grid_y, grid_z, levels=100, cmap='viridis')\n",
    "cbar = plt.colorbar(cp)\n",
    "cbar.ax.tick_params(labelsize=16)\n",
    "cbar.locator = MaxNLocator(nbins=5)\n",
    "cbar.update_ticks()\n",
    "ax.set_xlabel(r'$x_1$', fontsize=20)\n",
    "ax.set_ylabel(r'$x_2$', fontsize=20)\n",
    "ax.set_xlim([-1.6, 1.6])\n",
    "ax.set_ylim([-1.6, 1.6])\n",
    "ax.xaxis.set_major_locator(MaxNLocator(nbins=5))\n",
    "ax.yaxis.set_major_locator(MaxNLocator(nbins=5))\n",
    "ax.tick_params(axis='both', which='major', labelsize=16)\n",
    "ax.set_title(r'$Z(x, \\omega_1)$', fontsize=24, pad=20)\n",
    "plt.tight_layout()\n",
    "plt.show()\n",
    "\n",
    "fig = plt.figure(figsize=(10, 8))\n",
    "ax = fig.add_subplot(111)\n",
    "\n",
    "z_values = []\n",
    "for i in range(len(x_coords)):\n",
    "    z_values.append(np.exp(randomFieldZ([x_coords[i], y_coords[i]], xi_z)))\n",
    "grid_z = griddata((x_coords, y_coords), z_values, (grid_x, grid_y), method='linear')\n",
    "cp = ax.contourf(grid_x, grid_y, grid_z, levels=100, cmap='viridis')\n",
    "cbar = plt.colorbar(cp)\n",
    "cbar.ax.tick_params(labelsize=16)\n",
    "cbar.locator = MaxNLocator(nbins=5)\n",
    "cbar.update_ticks()\n",
    "ax.set_xlabel(r'$x_1$', fontsize=20)\n",
    "ax.set_ylabel(r'$x_2$', fontsize=20)\n",
    "ax.set_xlim([-1.6, 1.6])\n",
    "ax.set_ylim([-1.6, 1.6])\n",
    "ax.xaxis.set_major_locator(MaxNLocator(nbins=5))\n",
    "ax.yaxis.set_major_locator(MaxNLocator(nbins=5))\n",
    "ax.tick_params(axis='both', which='major', labelsize=16)\n",
    "ax.set_title(r'$A(x, \\omega_1)$', fontsize=24, pad=20)\n",
    "plt.tight_layout()\n",
    "plt.show()"
   ]
  },
  {
   "cell_type": "code",
   "execution_count": null,
   "metadata": {},
   "outputs": [],
   "source": [
    "# Find out which Eigenvalues are used in sobol calculation\n",
    "\n",
    "randomFieldZ = z_calculate_random_field_eigenpairs(8, z_cov)\n",
    "print(f\"randomFieldZ.eigenvalues[:4]: {randomFieldZ.eigenvalues[:4]}\")\n",
    "\n",
    "randomFieldV = calculate_vector_field_eigenpairs(8)[0]\n",
    "print(f\"randomFieldV.eigenvalues[:4]: {randomFieldV.eigenvalues[:4]}\")"
   ]
  }
 ],
 "metadata": {
  "kernelspec": {
   "display_name": "Python 3",
   "language": "python",
   "name": "python3"
  },
  "language_info": {
   "codemirror_mode": {
    "name": "ipython",
    "version": 3
   },
   "file_extension": ".py",
   "mimetype": "text/x-python",
   "name": "python",
   "nbconvert_exporter": "python",
   "pygments_lexer": "ipython3",
   "version": "3.12.7"
  }
 },
 "nbformat": 4,
 "nbformat_minor": 2
}
