{
 "cells": [
  {
   "cell_type": "markdown",
   "metadata": {},
   "source": [
    "$$- \\nabla \\cdot (a(x, \\omega_1) \\cdot \\nabla u(x)) = f(x) \\hspace{0.2cm} \\text{on} \\hspace{0.2cm} D(\\omega_2)$$\n",
    "where $a(x, \\omega_1) = \\exp(Z(x, \\omega_1))$, $Z$ being gaussian  \\\n",
    "and $V(x, \\omega_2)$ is the random field corresponding to $D(\\omega_2)$"
   ]
  },
  {
   "cell_type": "code",
   "execution_count": 1,
   "metadata": {},
   "outputs": [],
   "source": [
    "from helpers_diffusion import *\n",
    "from helpers import *"
   ]
  },
  {
   "cell_type": "code",
   "execution_count": 2,
   "metadata": {},
   "outputs": [],
   "source": [
    "MESH_RESOLUTION = 4"
   ]
  },
  {
   "cell_type": "code",
   "execution_count": null,
   "metadata": {},
   "outputs": [],
   "source": [
    "# for MESH_RESOLUTION = 4 it takes approx. 12 seconds\n",
    "\n",
    "# Calculate the eigenpairs\n",
    "randomFieldV, jacobianV = calculate_vector_field_eigenpairs(MESH_RESOLUTION)"
   ]
  },
  {
   "cell_type": "code",
   "execution_count": 5,
   "metadata": {},
   "outputs": [],
   "source": [
    "randomFieldZ = z_calculate_random_field_eigenpairs(MESH_RESOLUTION, z_cov)"
   ]
  },
  {
   "cell_type": "code",
   "execution_count": null,
   "metadata": {},
   "outputs": [],
   "source": [
    "len_xi_v = 2\n",
    "len_xi_z = 2\n",
    "\n",
    "x = fe.Point(0,0)\n",
    "xi_v = np.random.uniform(-np.sqrt(3), np.sqrt(3), len_xi_v)\n",
    "xi_z = np.random.normal(0, 1, len_xi_z)\n",
    "\n",
    "mesh = mshr.generate_mesh(DOMAIN, 32)\n",
    "V = fe.FunctionSpace(mesh, 'P', 1)\n",
    "a_hat_function = fe.Function(V)\n",
    "\n",
    "dof_coordinates = V.tabulate_dof_coordinates().reshape((-1, mesh.geometry().dim()))\n",
    "for i, x in enumerate(dof_coordinates):\n",
    "    V_x = randomFieldV(x, xi_v)\n",
    "    a_hat_value = a_hat_random_field(V_x, randomFieldV, randomFieldZ, xi_v, xi_z)\n",
    "    a_hat_function.vector()[i] = a_hat_value"
   ]
  },
  {
   "cell_type": "code",
   "execution_count": null,
   "metadata": {},
   "outputs": [],
   "source": [
    "# # Plot the function using FEniCS and Matplotlib\n",
    "# plt.figure()\n",
    "# c = fe.plot(a_hat_function)\n",
    "# plt.title('a_hat_random_field on the unit circle')\n",
    "# plt.colorbar(c)\n",
    "# plt.show()\n",
    "\n",
    "\n",
    "dof_coordinates = V.tabulate_dof_coordinates().reshape((-1, mesh.geometry().dim()))\n",
    "# Create a grid of points for the contour plot\n",
    "perturbed_coords = np.array([randomFieldV(coords, xi_v) for coords in dof_coordinates])\n",
    "x_coords = perturbed_coords[:, 0]\n",
    "y_coords = perturbed_coords[:, 1]\n",
    "z_values = a_hat_function.vector().get_local()\n",
    "\n",
    "grid_x, grid_y = np.mgrid[np.min(x_coords):np.max(x_coords):500j, np.min(y_coords):np.max(y_coords):500j]\n",
    "grid_z = griddata((x_coords, y_coords), z_values, (grid_x, grid_y), method='linear')\n",
    "\n",
    "\n",
    "# Create the contour plot using Matplotlib\n",
    "plt.figure()\n",
    "contour = plt.contourf(grid_x, grid_y, grid_z, levels=20, cmap='viridis')\n",
    "plt.colorbar(contour)\n",
    "plt.title('Contour plot of a_hat_random_field on the unit circle')\n",
    "plt.xlabel('x')\n",
    "plt.ylabel('y')\n",
    "plt.show()"
   ]
  },
  {
   "cell_type": "code",
   "execution_count": null,
   "metadata": {},
   "outputs": [],
   "source": [
    "grid_x, grid_y = np.mgrid[-1:1:500j, -1:1:500j]  # Increased resolution\n",
    "grid_z = griddata((x_coords, y_coords), z_values, (grid_x, grid_y), method='linear')\n",
    "\n",
    "# Apply a logarithmic transformation to the z-values\n",
    "log_grid_z = np.log(np.abs(grid_z) + 1e-10)  # Adding a small value to avoid log(0)\n",
    "\n",
    "# Create the contour plot using Matplotlib with a logarithmic z-scale\n",
    "plt.figure()\n",
    "contour = plt.contourf(grid_x, grid_y, log_grid_z, levels=120, cmap='viridis')\n",
    "plt.colorbar(contour, label='log(z)')\n",
    "plt.title('Logarithmic Contour plot of a_hat_random_field on the unit circle')\n",
    "plt.xlabel('x')\n",
    "plt.ylabel('y')\n",
    "plt.show()"
   ]
  },
  {
   "cell_type": "code",
   "execution_count": null,
   "metadata": {},
   "outputs": [],
   "source": [
    "mc_sample_sizes = [1, 2, 4]\n",
    "len_xi_v = 8\n",
    "len_xi_z = 8\n",
    "mesh_resolution_NVA = 4\n",
    "mesh_resolution_inverse_mapping = MESH_RESOLUTION\n",
    "mesh_resolution_solution = 4\n",
    "\n",
    "\n",
    "for mc_sample_size in mc_sample_sizes:\n",
    "    # Maybe consider pushing out some fixed code of the loop, but for refactoring reasons it is kept here\n",
    "\n",
    "    xis_v = [np.random.uniform(-np.sqrt(3), np.sqrt(3), len_xi_v) for _ in range(mc_sample_size)]\n",
    "    xis_z = [np.random.normal(0, 1, len_xi_z) for _ in range(mc_sample_size)]\n",
    "\n",
    "    NVA = non_varying_area(len_xi_v, randomFieldV)\n",
    "    mesh_NVA = mshr.generate_mesh(NVA, mesh_resolution_NVA)\n",
    "\n",
    "    V = fe.FunctionSpace(mesh_NVA, 'P', 1)\n",
    "    dofmap = V.dofmap()\n",
    "    dof_coordinates = V.tabulate_dof_coordinates().reshape((-1, mesh_NVA.geometry().dim())) # Those are all the point in mesh_NVA but ordered by the dof which we need to assign by the means\n",
    "\n",
    "    u_P_NVA_mean = np.zeros(len(dof_coordinates))\n",
    "\n",
    "    u_sols = []\n",
    "    for xi_v, xi_z in zip(xis_v, xis_z):\n",
    "        u_sols.append(solve_diffusion_poisson_for_given_sample(mesh_resolution_solution, RHS_F, randomFieldV, jacobianV, randomFieldZ, xi_v, xi_z))\n",
    "        \n",
    "    for i, P_coords in enumerate(dof_coordinates):\n",
    "        P = fe.Point(P_coords) #! loop can be optimized because P_hat is unique for each xi_v\n",
    "        for xi, u_sol in zip(xis_v, u_sols):\n",
    "            P_hat = inverse_mapping(P, randomFieldV, xi, mesh_resolution_inverse_mapping)\n",
    "            u_P_NVA_mean[i] += u_sol(P_hat) / mc_sample_size\n",
    "\n",
    "    u_mean = fe.Function(V)\n",
    "    u_mean.set_allow_extrapolation(True)\n",
    "    u_mean.vector()[:] = u_P_NVA_mean\n",
    "\n",
    "    # Extract the values of the function at the mesh points\n",
    "    x_coords = mesh_NVA.coordinates()[:, 0]\n",
    "    y_coords = mesh_NVA.coordinates()[:, 1]\n",
    "    z_values = []\n",
    "\n",
    "    for i in range(len(x_coords)):\n",
    "        z_values.append(u_mean(x_coords[i], y_coords[i]))\n",
    "\n",
    "    # Create a finer grid of points for the surface plot\n",
    "    grid_x, grid_y = np.mgrid[-1:1:500j, -1:1:500j]  # Increased resolution\n",
    "    grid_z = griddata((x_coords, y_coords), z_values, (grid_x, grid_y), method='linear')\n",
    "\n",
    "    # Create the interactive surface plot using Plotly\n",
    "    fig = go.Figure(data=[go.Surface(z=grid_z, x=grid_x, y=grid_y, colorscale='Viridis')])\n",
    "\n",
    "    # Customize the plot\n",
    "    fig.update_layout(title=f'Mean solution Function for {mc_sample_size} samples', autosize=True,\n",
    "                    scene=dict(xaxis_title='x', yaxis_title='y', zaxis_title='u(x, y)'),\n",
    "                    margin=dict(l=65, r=50, b=65, t=90))\n",
    "    fig.show()\n"
   ]
  },
  {
   "cell_type": "code",
   "execution_count": null,
   "metadata": {},
   "outputs": [],
   "source": [
    "from helpers_diffusion import diffusion_analyse_two_resolutions_from_data_u_hat\n",
    "import fenics as fe\n",
    "\n",
    "diffusion_analyse_two_resolutions_from_data_u_hat(resolution_sparse = 10,\n",
    "                                  resolution_fine = 14,\n",
    "                                  P_hat = fe.Point(0.5, 0.5))"
   ]
  },
  {
   "cell_type": "code",
   "execution_count": null,
   "metadata": {},
   "outputs": [],
   "source": [
    "from helpers import calculate_vector_field_eigenpairs\n",
    "from helpers_diffusion import diffusion_sobol_calc_indices_from_data, diffusion_plot_sobols\n",
    "\n",
    "mesh_res = 8\n",
    "size_xi_v = 4\n",
    "size_xi_z = 4\n",
    "\n",
    "randomFieldV, jacobianV = calculate_vector_field_eigenpairs(mesh_res)\n",
    "\n",
    "S_single, S_total, mc_sample_size = diffusion_sobol_calc_indices_from_data(fem_res=mesh_res, kl_res=mesh_res, size_xi_v=size_xi_v, size_xi_z=size_xi_z, randomFieldV=randomFieldV, jacobianV=jacobianV)\n",
    "\n",
    "diffusion_plot_sobols(S_single, S_total, mc_sample_size, size_xi_v, f\"Sobol Indices for Diffusion Problem Mesh resolution {mesh_res}\")\n"
   ]
  }
 ],
 "metadata": {
  "kernelspec": {
   "display_name": "Python 3",
   "language": "python",
   "name": "python3"
  },
  "language_info": {
   "codemirror_mode": {
    "name": "ipython",
    "version": 3
   },
   "file_extension": ".py",
   "mimetype": "text/x-python",
   "name": "python",
   "nbconvert_exporter": "python",
   "pygments_lexer": "ipython3",
   "version": "3.12.7"
  }
 },
 "nbformat": 4,
 "nbformat_minor": 2
}
